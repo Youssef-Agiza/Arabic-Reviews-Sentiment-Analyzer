{
 "cells": [
  {
   "cell_type": "markdown",
   "id": "36b48211",
   "metadata": {},
   "source": [
    "# Imports"
   ]
  },
  {
   "cell_type": "code",
   "execution_count": 1,
   "id": "4bf5c3a9",
   "metadata": {
    "scrolled": true
   },
   "outputs": [],
   "source": [
    "import pandas as pd\n",
    "import numpy as np\n",
    "import matplotlib.pyplot as plt\n",
    "import nltk\n",
    "from nltk.tokenize import word_tokenize\n",
    "\n",
    "import ast\n",
    "\n",
    "import warnings\n",
    "warnings.filterwarnings(\"ignore\")\n",
    "\n",
    "import sklearn.metrics as metrics\n",
    "from sklearn.metrics import confusion_matrix\n",
    "import sklearn.model_selection as ms\n",
    "import sklearn.preprocessing as preprocess\n",
    "from sklearn.model_selection import train_test_split\n",
    "from sklearn.feature_extraction.text import TfidfVectorizer\n",
    "\n",
    "\n",
    "from langdetect import detect\n",
    "import pyarabic.araby as araby\n",
    "# !pip install -U gensim\n",
    "# !pip install -U seaborn\n",
    "\n",
    "import gensim\n",
    "import re\n",
    "\n",
    "\n",
    "import seaborn as sns\n",
    "\n",
    "from sklearn.tree import DecisionTreeClassifier\n",
    "from sklearn.metrics import classification_report\n",
    "from sklearn.tree import plot_tree\n",
    "from sklearn.naive_bayes import GaussianNB\n",
    "from sklearn.linear_model import SGDClassifier\n",
    "from sklearn.preprocessing import StandardScaler\n",
    "from sklearn.pipeline import make_pipeline\n",
    "from sklearn.linear_model import LogisticRegression\n",
    "from sklearn.metrics import classification_report\n",
    "from sklearn.neural_network import MLPClassifier\n",
    "\n",
    "\n",
    "from numpy import mean\n",
    "from numpy import isnan\n",
    "from numpy import asarray\n",
    "from numpy import polyfit\n",
    "\n",
    "from scipy.stats import pearsonr\n",
    "from matplotlib import pyplot\n",
    "\n",
    "from sklearn.datasets import make_classification\n",
    "from sklearn.model_selection import KFold\n",
    "from sklearn.model_selection import LeaveOneOut\n",
    "from sklearn.model_selection import cross_val_score\n",
    "\n",
    "from sklearn.svm import LinearSVC\n",
    "from sklearn.svm import SVC\n",
    "from sklearn.naive_bayes import GaussianNB\n",
    "from sklearn.ensemble import AdaBoostClassifier\n",
    "from sklearn.ensemble import BaggingClassifier\n",
    "from sklearn.ensemble import RandomForestClassifier\n",
    "from sklearn.ensemble import ExtraTreesClassifier\n",
    "from sklearn.gaussian_process import GaussianProcessClassifier\n",
    "from sklearn.ensemble import GradientBoostingClassifier\n",
    "from sklearn.discriminant_analysis import LinearDiscriminantAnalysis\n",
    "from sklearn.discriminant_analysis import QuadraticDiscriminantAnalysis\n",
    "from sklearn.naive_bayes import MultinomialNB\n",
    "\n"
   ]
  },
  {
   "cell_type": "markdown",
   "id": "b4f5e5fe",
   "metadata": {},
   "source": [
    "# Rename Labels into -1, 0, and 1"
   ]
  },
  {
   "cell_type": "code",
   "execution_count": 2,
   "id": "e7c47d62",
   "metadata": {},
   "outputs": [],
   "source": [
    "dataset_folder_path=\"/home/youssef/AUC/Spring22/CSCE493002 - Machine Learning/project/datasets\""
   ]
  },
  {
   "cell_type": "code",
   "execution_count": 3,
   "id": "107abc14",
   "metadata": {
    "scrolled": true
   },
   "outputs": [
    {
     "data": {
      "text/html": [
       "<div>\n",
       "<style scoped>\n",
       "    .dataframe tbody tr th:only-of-type {\n",
       "        vertical-align: middle;\n",
       "    }\n",
       "\n",
       "    .dataframe tbody tr th {\n",
       "        vertical-align: top;\n",
       "    }\n",
       "\n",
       "    .dataframe thead th {\n",
       "        text-align: right;\n",
       "    }\n",
       "</style>\n",
       "<table border=\"1\" class=\"dataframe\">\n",
       "  <thead>\n",
       "    <tr style=\"text-align: right;\">\n",
       "      <th></th>\n",
       "      <th>label</th>\n",
       "      <th>text</th>\n",
       "    </tr>\n",
       "  </thead>\n",
       "  <tbody>\n",
       "    <tr>\n",
       "      <th>0</th>\n",
       "      <td>1</td>\n",
       "      <td>ممتاز نوعا ما . النظافة والموقع والتجهيز والشا...</td>\n",
       "    </tr>\n",
       "    <tr>\n",
       "      <th>1</th>\n",
       "      <td>1</td>\n",
       "      <td>أحد أسباب نجاح الإمارات أن كل شخص في هذه الدول...</td>\n",
       "    </tr>\n",
       "    <tr>\n",
       "      <th>2</th>\n",
       "      <td>1</td>\n",
       "      <td>هادفة .. وقوية. تنقلك من صخب شوارع القاهرة الى...</td>\n",
       "    </tr>\n",
       "    <tr>\n",
       "      <th>3</th>\n",
       "      <td>1</td>\n",
       "      <td>خلصنا .. مبدئيا اللي مستني ابهار زي الفيل الاز...</td>\n",
       "    </tr>\n",
       "    <tr>\n",
       "      <th>4</th>\n",
       "      <td>1</td>\n",
       "      <td>ياسات جلوريا جزء لا يتجزأ من دبي . فندق متكامل...</td>\n",
       "    </tr>\n",
       "    <tr>\n",
       "      <th>...</th>\n",
       "      <td>...</td>\n",
       "      <td>...</td>\n",
       "    </tr>\n",
       "    <tr>\n",
       "      <th>99994</th>\n",
       "      <td>-1</td>\n",
       "      <td>معرفش ليه كنت عاوزة أكملها وهي مش عاجباني من ا...</td>\n",
       "    </tr>\n",
       "    <tr>\n",
       "      <th>99995</th>\n",
       "      <td>-1</td>\n",
       "      <td>لا يستحق ان يكون في بوكنق لانه سيئ . لا شي. لا...</td>\n",
       "    </tr>\n",
       "    <tr>\n",
       "      <th>99996</th>\n",
       "      <td>-1</td>\n",
       "      <td>كتاب ضعيف جدا ولم استمتع به. فى كل قصه سرد لحا...</td>\n",
       "    </tr>\n",
       "    <tr>\n",
       "      <th>99997</th>\n",
       "      <td>-1</td>\n",
       "      <td>مملة جدا. محمد حسن علوان فنان بالكلمات، والوصف...</td>\n",
       "    </tr>\n",
       "    <tr>\n",
       "      <th>99998</th>\n",
       "      <td>-1</td>\n",
       "      <td>لن ارجع إليه مرة اخرى . قربه من البحر. المكان ...</td>\n",
       "    </tr>\n",
       "  </tbody>\n",
       "</table>\n",
       "<p>99999 rows × 2 columns</p>\n",
       "</div>"
      ],
      "text/plain": [
       "      label                                               text\n",
       "0         1  ممتاز نوعا ما . النظافة والموقع والتجهيز والشا...\n",
       "1         1  أحد أسباب نجاح الإمارات أن كل شخص في هذه الدول...\n",
       "2         1  هادفة .. وقوية. تنقلك من صخب شوارع القاهرة الى...\n",
       "3         1  خلصنا .. مبدئيا اللي مستني ابهار زي الفيل الاز...\n",
       "4         1  ياسات جلوريا جزء لا يتجزأ من دبي . فندق متكامل...\n",
       "...     ...                                                ...\n",
       "99994    -1  معرفش ليه كنت عاوزة أكملها وهي مش عاجباني من ا...\n",
       "99995    -1  لا يستحق ان يكون في بوكنق لانه سيئ . لا شي. لا...\n",
       "99996    -1  كتاب ضعيف جدا ولم استمتع به. فى كل قصه سرد لحا...\n",
       "99997    -1  مملة جدا. محمد حسن علوان فنان بالكلمات، والوصف...\n",
       "99998    -1  لن ارجع إليه مرة اخرى . قربه من البحر. المكان ...\n",
       "\n",
       "[99999 rows x 2 columns]"
      ]
     },
     "execution_count": 3,
     "metadata": {},
     "output_type": "execute_result"
    }
   ],
   "source": [
    "df = pd.read_csv(dataset_folder_path+'/ar_reviews_100k.csv')\n",
    "df[\"label\"]=df[\"label\"].str.replace(\"Positive\",\"1\")\n",
    "df[\"label\"]=df[\"label\"].str.replace(\"Mixed\",\"0\")\n",
    "df[\"label\"]=df[\"label\"].str.replace(\"Negative\",\"-1\")\n",
    "df"
   ]
  },
  {
   "cell_type": "code",
   "execution_count": 4,
   "id": "39ab0276",
   "metadata": {},
   "outputs": [
    {
     "data": {
      "text/html": [
       "<div>\n",
       "<style scoped>\n",
       "    .dataframe tbody tr th:only-of-type {\n",
       "        vertical-align: middle;\n",
       "    }\n",
       "\n",
       "    .dataframe tbody tr th {\n",
       "        vertical-align: top;\n",
       "    }\n",
       "\n",
       "    .dataframe thead th {\n",
       "        text-align: right;\n",
       "    }\n",
       "</style>\n",
       "<table border=\"1\" class=\"dataframe\">\n",
       "  <thead>\n",
       "    <tr style=\"text-align: right;\">\n",
       "      <th></th>\n",
       "      <th>label</th>\n",
       "      <th>freq</th>\n",
       "    </tr>\n",
       "  </thead>\n",
       "  <tbody>\n",
       "    <tr>\n",
       "      <th>0</th>\n",
       "      <td>1</td>\n",
       "      <td>{'متز': 1, 'نوع': 1, 'ما': 1, 'نظف': 1, 'وقع':...</td>\n",
       "    </tr>\n",
       "    <tr>\n",
       "      <th>1</th>\n",
       "      <td>1</td>\n",
       "      <td>{'احد': 1, 'سبب': 1, 'نجح': 1, 'امر': 2, 'كل':...</td>\n",
       "    </tr>\n",
       "    <tr>\n",
       "      <th>2</th>\n",
       "      <td>1</td>\n",
       "      <td>{'هدف': 1, 'نقل': 1, 'صخب': 1, 'شرع': 1, 'قهر'...</td>\n",
       "    </tr>\n",
       "    <tr>\n",
       "      <th>3</th>\n",
       "      <td>1</td>\n",
       "      <td>{'خلص': 3, 'بدء': 1, 'الل': 1, 'بهر': 1, 'زي':...</td>\n",
       "    </tr>\n",
       "    <tr>\n",
       "      <th>4</th>\n",
       "      <td>1</td>\n",
       "      <td>{'ياس': 1, 'جزء': 2, 'لا': 2, 'دبي': 1, 'ندق':...</td>\n",
       "    </tr>\n",
       "    <tr>\n",
       "      <th>...</th>\n",
       "      <td>...</td>\n",
       "      <td>...</td>\n",
       "    </tr>\n",
       "    <tr>\n",
       "      <th>99994</th>\n",
       "      <td>-1</td>\n",
       "      <td>{'عرفش': 1, 'ليه': 1, 'كنت': 1, 'كمل': 1, 'وهي...</td>\n",
       "    </tr>\n",
       "    <tr>\n",
       "      <th>99995</th>\n",
       "      <td>-1</td>\n",
       "      <td>{'لا': 3, 'سحق': 1, 'يكون': 1, 'كنق': 1, 'لنه'...</td>\n",
       "    </tr>\n",
       "    <tr>\n",
       "      <th>99996</th>\n",
       "      <td>-1</td>\n",
       "      <td>{'ضعف': 1, 'جدا': 1, 'ولم': 1, 'متع': 1, 'به':...</td>\n",
       "    </tr>\n",
       "    <tr>\n",
       "      <th>99997</th>\n",
       "      <td>-1</td>\n",
       "      <td>{'ملة': 1, 'جدا': 1, 'حمد': 1, 'حسن': 1, 'علو'...</td>\n",
       "    </tr>\n",
       "    <tr>\n",
       "      <th>99998</th>\n",
       "      <td>-1</td>\n",
       "      <td>{'لن': 1, 'رجع': 1, 'اله': 1, 'مرة': 1, 'خرى':...</td>\n",
       "    </tr>\n",
       "  </tbody>\n",
       "</table>\n",
       "<p>99999 rows × 2 columns</p>\n",
       "</div>"
      ],
      "text/plain": [
       "       label                                               freq\n",
       "0          1  {'متز': 1, 'نوع': 1, 'ما': 1, 'نظف': 1, 'وقع':...\n",
       "1          1  {'احد': 1, 'سبب': 1, 'نجح': 1, 'امر': 2, 'كل':...\n",
       "2          1  {'هدف': 1, 'نقل': 1, 'صخب': 1, 'شرع': 1, 'قهر'...\n",
       "3          1  {'خلص': 3, 'بدء': 1, 'الل': 1, 'بهر': 1, 'زي':...\n",
       "4          1  {'ياس': 1, 'جزء': 2, 'لا': 2, 'دبي': 1, 'ندق':...\n",
       "...      ...                                                ...\n",
       "99994     -1  {'عرفش': 1, 'ليه': 1, 'كنت': 1, 'كمل': 1, 'وهي...\n",
       "99995     -1  {'لا': 3, 'سحق': 1, 'يكون': 1, 'كنق': 1, 'لنه'...\n",
       "99996     -1  {'ضعف': 1, 'جدا': 1, 'ولم': 1, 'متع': 1, 'به':...\n",
       "99997     -1  {'ملة': 1, 'جدا': 1, 'حمد': 1, 'حسن': 1, 'علو'...\n",
       "99998     -1  {'لن': 1, 'رجع': 1, 'اله': 1, 'مرة': 1, 'خرى':...\n",
       "\n",
       "[99999 rows x 2 columns]"
      ]
     },
     "execution_count": 4,
     "metadata": {},
     "output_type": "execute_result"
    }
   ],
   "source": [
    "df= pd.read_csv(dataset_folder_path+\"/freqEncoded.csv\")\n",
    "df.drop(columns=[\"text\",\"stemmed_text\",\"normalized\",\"clean_text\"],axis=1,inplace=True)\n",
    "df"
   ]
  },
  {
   "cell_type": "markdown",
   "id": "1c6638a2",
   "metadata": {},
   "source": [
    "# TF-IDF"
   ]
  },
  {
   "cell_type": "code",
   "execution_count": 12,
   "id": "44927fe2",
   "metadata": {},
   "outputs": [],
   "source": [
    "def get_freq(words):\n",
    "  freq=dict()\n",
    "  for word in words:\n",
    "      if word in freq:\n",
    "        freq[word]+=1\n",
    "      else:\n",
    "        freq[word]=1\n",
    "  return freq"
   ]
  },
  {
   "cell_type": "code",
   "execution_count": 10,
   "id": "a05b095e",
   "metadata": {
    "scrolled": true
   },
   "outputs": [
    {
     "data": {
      "text/html": [
       "<div>\n",
       "<style scoped>\n",
       "    .dataframe tbody tr th:only-of-type {\n",
       "        vertical-align: middle;\n",
       "    }\n",
       "\n",
       "    .dataframe tbody tr th {\n",
       "        vertical-align: top;\n",
       "    }\n",
       "\n",
       "    .dataframe thead th {\n",
       "        text-align: right;\n",
       "    }\n",
       "</style>\n",
       "<table border=\"1\" class=\"dataframe\">\n",
       "  <thead>\n",
       "    <tr style=\"text-align: right;\">\n",
       "      <th></th>\n",
       "      <th>label</th>\n",
       "      <th>text</th>\n",
       "      <th>freq</th>\n",
       "    </tr>\n",
       "  </thead>\n",
       "  <tbody>\n",
       "    <tr>\n",
       "      <th>0</th>\n",
       "      <td>1</td>\n",
       "      <td>ممتاز نوعا ما . النظافة والموقع والتجهيز والشا...</td>\n",
       "      <td>{'م': 6, 'ت': 2, 'ا': 10, 'ز': 2, ' ': 8, 'ن':...</td>\n",
       "    </tr>\n",
       "    <tr>\n",
       "      <th>1</th>\n",
       "      <td>1</td>\n",
       "      <td>أحد أسباب نجاح الإمارات أن كل شخص في هذه الدول...</td>\n",
       "      <td>{'أ': 4, 'ح': 10, 'د': 7, ' ': 52, 'س': 6, 'ب'...</td>\n",
       "    </tr>\n",
       "    <tr>\n",
       "      <th>2</th>\n",
       "      <td>1</td>\n",
       "      <td>هادفة .. وقوية. تنقلك من صخب شوارع القاهرة الى...</td>\n",
       "      <td>{'ه': 4, 'ا': 27, 'د': 4, 'ف': 5, 'ة': 10, ' '...</td>\n",
       "    </tr>\n",
       "    <tr>\n",
       "      <th>3</th>\n",
       "      <td>1</td>\n",
       "      <td>خلصنا .. مبدئيا اللي مستني ابهار زي الفيل الاز...</td>\n",
       "      <td>{'خ': 8, 'ل': 36, 'ص': 7, 'ن': 28, 'ا': 68, ' ...</td>\n",
       "    </tr>\n",
       "    <tr>\n",
       "      <th>4</th>\n",
       "      <td>1</td>\n",
       "      <td>ياسات جلوريا جزء لا يتجزأ من دبي . فندق متكامل...</td>\n",
       "      <td>{'ي': 7, 'ا': 9, 'س': 2, 'ت': 4, ' ': 14, 'ج':...</td>\n",
       "    </tr>\n",
       "    <tr>\n",
       "      <th>...</th>\n",
       "      <td>...</td>\n",
       "      <td>...</td>\n",
       "      <td>...</td>\n",
       "    </tr>\n",
       "    <tr>\n",
       "      <th>99994</th>\n",
       "      <td>-1</td>\n",
       "      <td>معرفش ليه كنت عاوزة أكملها وهي مش عاجباني من ا...</td>\n",
       "      <td>{'م': 10, 'ع': 5, 'ر': 4, 'ف': 3, 'ش': 3, ' ':...</td>\n",
       "    </tr>\n",
       "    <tr>\n",
       "      <th>99995</th>\n",
       "      <td>-1</td>\n",
       "      <td>لا يستحق ان يكون في بوكنق لانه سيئ . لا شي. لا...</td>\n",
       "      <td>{'ل': 6, 'ا': 10, ' ': 19, 'ي': 9, 'س': 3, 'ت'...</td>\n",
       "    </tr>\n",
       "    <tr>\n",
       "      <th>99996</th>\n",
       "      <td>-1</td>\n",
       "      <td>كتاب ضعيف جدا ولم استمتع به. فى كل قصه سرد لحا...</td>\n",
       "      <td>{'ك': 3, 'ت': 3, 'ا': 4, 'ب': 3, ' ': 15, 'ض':...</td>\n",
       "    </tr>\n",
       "    <tr>\n",
       "      <th>99997</th>\n",
       "      <td>-1</td>\n",
       "      <td>مملة جدا. محمد حسن علوان فنان بالكلمات، والوصف...</td>\n",
       "      <td>{'م': 7, 'ل': 16, 'ة': 3, ' ': 29, 'ج': 1, 'د'...</td>\n",
       "    </tr>\n",
       "    <tr>\n",
       "      <th>99998</th>\n",
       "      <td>-1</td>\n",
       "      <td>لن ارجع إليه مرة اخرى . قربه من البحر. المكان ...</td>\n",
       "      <td>{'ل': 5, 'ن': 4, ' ': 16, 'ا': 7, 'ر': 6, 'ج':...</td>\n",
       "    </tr>\n",
       "  </tbody>\n",
       "</table>\n",
       "<p>99999 rows × 3 columns</p>\n",
       "</div>"
      ],
      "text/plain": [
       "      label                                               text  \\\n",
       "0         1  ممتاز نوعا ما . النظافة والموقع والتجهيز والشا...   \n",
       "1         1  أحد أسباب نجاح الإمارات أن كل شخص في هذه الدول...   \n",
       "2         1  هادفة .. وقوية. تنقلك من صخب شوارع القاهرة الى...   \n",
       "3         1  خلصنا .. مبدئيا اللي مستني ابهار زي الفيل الاز...   \n",
       "4         1  ياسات جلوريا جزء لا يتجزأ من دبي . فندق متكامل...   \n",
       "...     ...                                                ...   \n",
       "99994    -1  معرفش ليه كنت عاوزة أكملها وهي مش عاجباني من ا...   \n",
       "99995    -1  لا يستحق ان يكون في بوكنق لانه سيئ . لا شي. لا...   \n",
       "99996    -1  كتاب ضعيف جدا ولم استمتع به. فى كل قصه سرد لحا...   \n",
       "99997    -1  مملة جدا. محمد حسن علوان فنان بالكلمات، والوصف...   \n",
       "99998    -1  لن ارجع إليه مرة اخرى . قربه من البحر. المكان ...   \n",
       "\n",
       "                                                    freq  \n",
       "0      {'م': 6, 'ت': 2, 'ا': 10, 'ز': 2, ' ': 8, 'ن':...  \n",
       "1      {'أ': 4, 'ح': 10, 'د': 7, ' ': 52, 'س': 6, 'ب'...  \n",
       "2      {'ه': 4, 'ا': 27, 'د': 4, 'ف': 5, 'ة': 10, ' '...  \n",
       "3      {'خ': 8, 'ل': 36, 'ص': 7, 'ن': 28, 'ا': 68, ' ...  \n",
       "4      {'ي': 7, 'ا': 9, 'س': 2, 'ت': 4, ' ': 14, 'ج':...  \n",
       "...                                                  ...  \n",
       "99994  {'م': 10, 'ع': 5, 'ر': 4, 'ف': 3, 'ش': 3, ' ':...  \n",
       "99995  {'ل': 6, 'ا': 10, ' ': 19, 'ي': 9, 'س': 3, 'ت'...  \n",
       "99996  {'ك': 3, 'ت': 3, 'ا': 4, 'ب': 3, ' ': 15, 'ض':...  \n",
       "99997  {'م': 7, 'ل': 16, 'ة': 3, ' ': 29, 'ج': 1, 'د'...  \n",
       "99998  {'ل': 5, 'ن': 4, ' ': 16, 'ا': 7, 'ر': 6, 'ج':...  \n",
       "\n",
       "[99999 rows x 3 columns]"
      ]
     },
     "execution_count": 10,
     "metadata": {},
     "output_type": "execute_result"
    }
   ],
   "source": [
    "df[\"freq\"]=df[\"text\"].apply(get_freq)\n",
    "df"
   ]
  },
  {
   "cell_type": "code",
   "execution_count": 4,
   "id": "5f42e99a",
   "metadata": {
    "scrolled": false
   },
   "outputs": [],
   "source": [
    "#converting string dict to dict\n",
    "df['freq']=df['freq'].apply(lambda x: ast.literal_eval(x))"
   ]
  },
  {
   "cell_type": "code",
   "execution_count": 5,
   "id": "6d2852ab",
   "metadata": {},
   "outputs": [
    {
     "data": {
      "text/html": [
       "<div>\n",
       "<style scoped>\n",
       "    .dataframe tbody tr th:only-of-type {\n",
       "        vertical-align: middle;\n",
       "    }\n",
       "\n",
       "    .dataframe tbody tr th {\n",
       "        vertical-align: top;\n",
       "    }\n",
       "\n",
       "    .dataframe thead th {\n",
       "        text-align: right;\n",
       "    }\n",
       "</style>\n",
       "<table border=\"1\" class=\"dataframe\">\n",
       "  <thead>\n",
       "    <tr style=\"text-align: right;\">\n",
       "      <th></th>\n",
       "      <th>label</th>\n",
       "      <th>freq</th>\n",
       "      <th>joined_text</th>\n",
       "    </tr>\n",
       "  </thead>\n",
       "  <tbody>\n",
       "    <tr>\n",
       "      <th>0</th>\n",
       "      <td>1</td>\n",
       "      <td>{'متز': 1, 'نوع': 1, 'ما': 1, 'نظف': 1, 'وقع':...</td>\n",
       "      <td>متز نوع ما نظف وقع جهز شاطيء طعم</td>\n",
       "    </tr>\n",
       "    <tr>\n",
       "      <th>1</th>\n",
       "      <td>1</td>\n",
       "      <td>{'احد': 1, 'سبب': 1, 'نجح': 1, 'امر': 2, 'كل':...</td>\n",
       "      <td>احد سبب نجح امر كل شخص هذه دول عشق ترب نحن نحب...</td>\n",
       "    </tr>\n",
       "    <tr>\n",
       "      <th>2</th>\n",
       "      <td>1</td>\n",
       "      <td>{'هدف': 1, 'نقل': 1, 'صخب': 1, 'شرع': 1, 'قهر'...</td>\n",
       "      <td>هدف نقل صخب شرع قهر هدء جبل شيش عرف حقق ما جرى...</td>\n",
       "    </tr>\n",
       "    <tr>\n",
       "      <th>3</th>\n",
       "      <td>1</td>\n",
       "      <td>{'خلص': 3, 'بدء': 1, 'الل': 1, 'بهر': 1, 'زي':...</td>\n",
       "      <td>خلص بدء الل بهر زي فيل زرق حمد راد خطى رحل قرء...</td>\n",
       "    </tr>\n",
       "    <tr>\n",
       "      <th>4</th>\n",
       "      <td>1</td>\n",
       "      <td>{'ياس': 1, 'جزء': 2, 'لا': 2, 'دبي': 1, 'ندق':...</td>\n",
       "      <td>ياس جزء لا دبي ندق كامل خدم ريح نفس وجد</td>\n",
       "    </tr>\n",
       "    <tr>\n",
       "      <th>...</th>\n",
       "      <td>...</td>\n",
       "      <td>...</td>\n",
       "      <td>...</td>\n",
       "    </tr>\n",
       "    <tr>\n",
       "      <th>99994</th>\n",
       "      <td>-1</td>\n",
       "      <td>{'عرفش': 1, 'ليه': 1, 'كنت': 1, 'كمل': 1, 'وهي...</td>\n",
       "      <td>عرفش ليه كنت كمل وهي مش عجب حدث بطء ممل روي اط...</td>\n",
       "    </tr>\n",
       "    <tr>\n",
       "      <th>99995</th>\n",
       "      <td>-1</td>\n",
       "      <td>{'لا': 3, 'سحق': 1, 'يكون': 1, 'كنق': 1, 'لنه'...</td>\n",
       "      <td>لا سحق يكون كنق لنه سيء شي وجد خدم فطر صبح ستي...</td>\n",
       "    </tr>\n",
       "    <tr>\n",
       "      <th>99996</th>\n",
       "      <td>-1</td>\n",
       "      <td>{'ضعف': 1, 'جدا': 1, 'ولم': 1, 'متع': 1, 'به':...</td>\n",
       "      <td>ضعف جدا ولم متع به كل قصه سرد لحل شهد بدن فكر</td>\n",
       "    </tr>\n",
       "    <tr>\n",
       "      <th>99997</th>\n",
       "      <td>-1</td>\n",
       "      <td>{'ملة': 1, 'جدا': 1, 'حمد': 1, 'حسن': 1, 'علو'...</td>\n",
       "      <td>ملة جدا حمد حسن علو فنن وصف عند دقق حد ثني قرء...</td>\n",
       "    </tr>\n",
       "    <tr>\n",
       "      <th>99998</th>\n",
       "      <td>-1</td>\n",
       "      <td>{'لن': 1, 'رجع': 1, 'اله': 1, 'مرة': 1, 'خرى':...</td>\n",
       "      <td>لن رجع اله مرة خرى قرب بحر كان قدم ولا وجد خدم...</td>\n",
       "    </tr>\n",
       "  </tbody>\n",
       "</table>\n",
       "<p>99999 rows × 3 columns</p>\n",
       "</div>"
      ],
      "text/plain": [
       "       label                                               freq  \\\n",
       "0          1  {'متز': 1, 'نوع': 1, 'ما': 1, 'نظف': 1, 'وقع':...   \n",
       "1          1  {'احد': 1, 'سبب': 1, 'نجح': 1, 'امر': 2, 'كل':...   \n",
       "2          1  {'هدف': 1, 'نقل': 1, 'صخب': 1, 'شرع': 1, 'قهر'...   \n",
       "3          1  {'خلص': 3, 'بدء': 1, 'الل': 1, 'بهر': 1, 'زي':...   \n",
       "4          1  {'ياس': 1, 'جزء': 2, 'لا': 2, 'دبي': 1, 'ندق':...   \n",
       "...      ...                                                ...   \n",
       "99994     -1  {'عرفش': 1, 'ليه': 1, 'كنت': 1, 'كمل': 1, 'وهي...   \n",
       "99995     -1  {'لا': 3, 'سحق': 1, 'يكون': 1, 'كنق': 1, 'لنه'...   \n",
       "99996     -1  {'ضعف': 1, 'جدا': 1, 'ولم': 1, 'متع': 1, 'به':...   \n",
       "99997     -1  {'ملة': 1, 'جدا': 1, 'حمد': 1, 'حسن': 1, 'علو'...   \n",
       "99998     -1  {'لن': 1, 'رجع': 1, 'اله': 1, 'مرة': 1, 'خرى':...   \n",
       "\n",
       "                                             joined_text  \n",
       "0                       متز نوع ما نظف وقع جهز شاطيء طعم  \n",
       "1      احد سبب نجح امر كل شخص هذه دول عشق ترب نحن نحب...  \n",
       "2      هدف نقل صخب شرع قهر هدء جبل شيش عرف حقق ما جرى...  \n",
       "3      خلص بدء الل بهر زي فيل زرق حمد راد خطى رحل قرء...  \n",
       "4                ياس جزء لا دبي ندق كامل خدم ريح نفس وجد  \n",
       "...                                                  ...  \n",
       "99994  عرفش ليه كنت كمل وهي مش عجب حدث بطء ممل روي اط...  \n",
       "99995  لا سحق يكون كنق لنه سيء شي وجد خدم فطر صبح ستي...  \n",
       "99996      ضعف جدا ولم متع به كل قصه سرد لحل شهد بدن فكر  \n",
       "99997  ملة جدا حمد حسن علو فنن وصف عند دقق حد ثني قرء...  \n",
       "99998  لن رجع اله مرة خرى قرب بحر كان قدم ولا وجد خدم...  \n",
       "\n",
       "[99999 rows x 3 columns]"
      ]
     },
     "execution_count": 5,
     "metadata": {},
     "output_type": "execute_result"
    }
   ],
   "source": [
    "#joined words into a sentence again to use sklearn model\n",
    "df[\"joined_text\"]=df[\"freq\"].apply(lambda freq_dict: ' '.join(list(freq_dict.keys())) )\n",
    "df"
   ]
  },
  {
   "cell_type": "code",
   "execution_count": 20,
   "id": "056fa043",
   "metadata": {},
   "outputs": [
    {
     "name": "stdout",
     "output_type": "stream",
     "text": [
      "> model:LogisticRegression() , folds=10, accuracy=0.643 (0.639,0.648)\n",
      "> model:MultinomialNB() , folds=10, accuracy=0.618 (0.613,0.623)\n",
      "> model:MLPClassifier(early_stopping=True, hidden_layer_sizes=(16, 16),\n",
      "              learning_rate_init=0.01, max_iter=30, random_state=33, tol=1e-05) , folds=10, accuracy=0.644 (0.638,0.650)\n"
     ]
    },
    {
     "name": "stderr",
     "output_type": "stream",
     "text": [
      "/home/youssef/.local/lib/python3.8/site-packages/sklearn/linear_model/_logistic.py:814: ConvergenceWarning: lbfgs failed to converge (status=1):\n",
      "STOP: TOTAL NO. of ITERATIONS REACHED LIMIT.\n",
      "\n",
      "Increase the number of iterations (max_iter) or scale the data as shown in:\n",
      "    https://scikit-learn.org/stable/modules/preprocessing.html\n",
      "Please also refer to the documentation for alternative solver options:\n",
      "    https://scikit-learn.org/stable/modules/linear_model.html#logistic-regression\n",
      "  n_iter_i = _check_optimize_result(\n",
      "/home/youssef/.local/lib/python3.8/site-packages/sklearn/linear_model/_logistic.py:814: ConvergenceWarning: lbfgs failed to converge (status=1):\n",
      "STOP: TOTAL NO. of ITERATIONS REACHED LIMIT.\n",
      "\n",
      "Increase the number of iterations (max_iter) or scale the data as shown in:\n",
      "    https://scikit-learn.org/stable/modules/preprocessing.html\n",
      "Please also refer to the documentation for alternative solver options:\n",
      "    https://scikit-learn.org/stable/modules/linear_model.html#logistic-regression\n",
      "  n_iter_i = _check_optimize_result(\n",
      "/home/youssef/.local/lib/python3.8/site-packages/sklearn/linear_model/_logistic.py:814: ConvergenceWarning: lbfgs failed to converge (status=1):\n",
      "STOP: TOTAL NO. of ITERATIONS REACHED LIMIT.\n",
      "\n",
      "Increase the number of iterations (max_iter) or scale the data as shown in:\n",
      "    https://scikit-learn.org/stable/modules/preprocessing.html\n",
      "Please also refer to the documentation for alternative solver options:\n",
      "    https://scikit-learn.org/stable/modules/linear_model.html#logistic-regression\n",
      "  n_iter_i = _check_optimize_result(\n",
      "/home/youssef/.local/lib/python3.8/site-packages/sklearn/linear_model/_logistic.py:814: ConvergenceWarning: lbfgs failed to converge (status=1):\n",
      "STOP: TOTAL NO. of ITERATIONS REACHED LIMIT.\n",
      "\n",
      "Increase the number of iterations (max_iter) or scale the data as shown in:\n",
      "    https://scikit-learn.org/stable/modules/preprocessing.html\n",
      "Please also refer to the documentation for alternative solver options:\n",
      "    https://scikit-learn.org/stable/modules/linear_model.html#logistic-regression\n",
      "  n_iter_i = _check_optimize_result(\n",
      "/home/youssef/.local/lib/python3.8/site-packages/sklearn/linear_model/_logistic.py:814: ConvergenceWarning: lbfgs failed to converge (status=1):\n",
      "STOP: TOTAL NO. of ITERATIONS REACHED LIMIT.\n",
      "\n",
      "Increase the number of iterations (max_iter) or scale the data as shown in:\n",
      "    https://scikit-learn.org/stable/modules/preprocessing.html\n",
      "Please also refer to the documentation for alternative solver options:\n",
      "    https://scikit-learn.org/stable/modules/linear_model.html#logistic-regression\n",
      "  n_iter_i = _check_optimize_result(\n",
      "/home/youssef/.local/lib/python3.8/site-packages/sklearn/linear_model/_logistic.py:814: ConvergenceWarning: lbfgs failed to converge (status=1):\n",
      "STOP: TOTAL NO. of ITERATIONS REACHED LIMIT.\n",
      "\n",
      "Increase the number of iterations (max_iter) or scale the data as shown in:\n",
      "    https://scikit-learn.org/stable/modules/preprocessing.html\n",
      "Please also refer to the documentation for alternative solver options:\n",
      "    https://scikit-learn.org/stable/modules/linear_model.html#logistic-regression\n",
      "  n_iter_i = _check_optimize_result(\n",
      "/home/youssef/.local/lib/python3.8/site-packages/sklearn/linear_model/_logistic.py:814: ConvergenceWarning: lbfgs failed to converge (status=1):\n",
      "STOP: TOTAL NO. of ITERATIONS REACHED LIMIT.\n",
      "\n",
      "Increase the number of iterations (max_iter) or scale the data as shown in:\n",
      "    https://scikit-learn.org/stable/modules/preprocessing.html\n",
      "Please also refer to the documentation for alternative solver options:\n",
      "    https://scikit-learn.org/stable/modules/linear_model.html#logistic-regression\n",
      "  n_iter_i = _check_optimize_result(\n",
      "/home/youssef/.local/lib/python3.8/site-packages/sklearn/linear_model/_logistic.py:814: ConvergenceWarning: lbfgs failed to converge (status=1):\n",
      "STOP: TOTAL NO. of ITERATIONS REACHED LIMIT.\n",
      "\n",
      "Increase the number of iterations (max_iter) or scale the data as shown in:\n",
      "    https://scikit-learn.org/stable/modules/preprocessing.html\n",
      "Please also refer to the documentation for alternative solver options:\n",
      "    https://scikit-learn.org/stable/modules/linear_model.html#logistic-regression\n",
      "  n_iter_i = _check_optimize_result(\n",
      "/home/youssef/.local/lib/python3.8/site-packages/sklearn/linear_model/_logistic.py:814: ConvergenceWarning: lbfgs failed to converge (status=1):\n",
      "STOP: TOTAL NO. of ITERATIONS REACHED LIMIT.\n",
      "\n",
      "Increase the number of iterations (max_iter) or scale the data as shown in:\n",
      "    https://scikit-learn.org/stable/modules/preprocessing.html\n",
      "Please also refer to the documentation for alternative solver options:\n",
      "    https://scikit-learn.org/stable/modules/linear_model.html#logistic-regression\n",
      "  n_iter_i = _check_optimize_result(\n",
      "/home/youssef/.local/lib/python3.8/site-packages/sklearn/linear_model/_logistic.py:814: ConvergenceWarning: lbfgs failed to converge (status=1):\n",
      "STOP: TOTAL NO. of ITERATIONS REACHED LIMIT.\n",
      "\n",
      "Increase the number of iterations (max_iter) or scale the data as shown in:\n",
      "    https://scikit-learn.org/stable/modules/preprocessing.html\n",
      "Please also refer to the documentation for alternative solver options:\n",
      "    https://scikit-learn.org/stable/modules/linear_model.html#logistic-regression\n",
      "  n_iter_i = _check_optimize_result(\n",
      "/home/youssef/.local/lib/python3.8/site-packages/sklearn/linear_model/_logistic.py:814: ConvergenceWarning: lbfgs failed to converge (status=1):\n",
      "STOP: TOTAL NO. of ITERATIONS REACHED LIMIT.\n",
      "\n",
      "Increase the number of iterations (max_iter) or scale the data as shown in:\n",
      "    https://scikit-learn.org/stable/modules/preprocessing.html\n",
      "Please also refer to the documentation for alternative solver options:\n",
      "    https://scikit-learn.org/stable/modules/linear_model.html#logistic-regression\n",
      "  n_iter_i = _check_optimize_result(\n",
      "/home/youssef/.local/lib/python3.8/site-packages/sklearn/linear_model/_logistic.py:814: ConvergenceWarning: lbfgs failed to converge (status=1):\n",
      "STOP: TOTAL NO. of ITERATIONS REACHED LIMIT.\n",
      "\n",
      "Increase the number of iterations (max_iter) or scale the data as shown in:\n",
      "    https://scikit-learn.org/stable/modules/preprocessing.html\n",
      "Please also refer to the documentation for alternative solver options:\n",
      "    https://scikit-learn.org/stable/modules/linear_model.html#logistic-regression\n",
      "  n_iter_i = _check_optimize_result(\n",
      "/home/youssef/.local/lib/python3.8/site-packages/sklearn/linear_model/_logistic.py:814: ConvergenceWarning: lbfgs failed to converge (status=1):\n",
      "STOP: TOTAL NO. of ITERATIONS REACHED LIMIT.\n",
      "\n",
      "Increase the number of iterations (max_iter) or scale the data as shown in:\n",
      "    https://scikit-learn.org/stable/modules/preprocessing.html\n",
      "Please also refer to the documentation for alternative solver options:\n",
      "    https://scikit-learn.org/stable/modules/linear_model.html#logistic-regression\n",
      "  n_iter_i = _check_optimize_result(\n",
      "/home/youssef/.local/lib/python3.8/site-packages/sklearn/linear_model/_logistic.py:814: ConvergenceWarning: lbfgs failed to converge (status=1):\n",
      "STOP: TOTAL NO. of ITERATIONS REACHED LIMIT.\n",
      "\n",
      "Increase the number of iterations (max_iter) or scale the data as shown in:\n",
      "    https://scikit-learn.org/stable/modules/preprocessing.html\n",
      "Please also refer to the documentation for alternative solver options:\n",
      "    https://scikit-learn.org/stable/modules/linear_model.html#logistic-regression\n",
      "  n_iter_i = _check_optimize_result(\n",
      "/home/youssef/.local/lib/python3.8/site-packages/sklearn/linear_model/_logistic.py:814: ConvergenceWarning: lbfgs failed to converge (status=1):\n",
      "STOP: TOTAL NO. of ITERATIONS REACHED LIMIT.\n",
      "\n",
      "Increase the number of iterations (max_iter) or scale the data as shown in:\n",
      "    https://scikit-learn.org/stable/modules/preprocessing.html\n",
      "Please also refer to the documentation for alternative solver options:\n",
      "    https://scikit-learn.org/stable/modules/linear_model.html#logistic-regression\n",
      "  n_iter_i = _check_optimize_result(\n",
      "/home/youssef/.local/lib/python3.8/site-packages/sklearn/linear_model/_logistic.py:814: ConvergenceWarning: lbfgs failed to converge (status=1):\n",
      "STOP: TOTAL NO. of ITERATIONS REACHED LIMIT.\n",
      "\n",
      "Increase the number of iterations (max_iter) or scale the data as shown in:\n",
      "    https://scikit-learn.org/stable/modules/preprocessing.html\n",
      "Please also refer to the documentation for alternative solver options:\n",
      "    https://scikit-learn.org/stable/modules/linear_model.html#logistic-regression\n",
      "  n_iter_i = _check_optimize_result(\n",
      "/home/youssef/.local/lib/python3.8/site-packages/sklearn/linear_model/_logistic.py:814: ConvergenceWarning: lbfgs failed to converge (status=1):\n",
      "STOP: TOTAL NO. of ITERATIONS REACHED LIMIT.\n",
      "\n",
      "Increase the number of iterations (max_iter) or scale the data as shown in:\n",
      "    https://scikit-learn.org/stable/modules/preprocessing.html\n",
      "Please also refer to the documentation for alternative solver options:\n",
      "    https://scikit-learn.org/stable/modules/linear_model.html#logistic-regression\n",
      "  n_iter_i = _check_optimize_result(\n",
      "/home/youssef/.local/lib/python3.8/site-packages/sklearn/linear_model/_logistic.py:814: ConvergenceWarning: lbfgs failed to converge (status=1):\n",
      "STOP: TOTAL NO. of ITERATIONS REACHED LIMIT.\n",
      "\n",
      "Increase the number of iterations (max_iter) or scale the data as shown in:\n",
      "    https://scikit-learn.org/stable/modules/preprocessing.html\n",
      "Please also refer to the documentation for alternative solver options:\n",
      "    https://scikit-learn.org/stable/modules/linear_model.html#logistic-regression\n",
      "  n_iter_i = _check_optimize_result(\n"
     ]
    },
    {
     "name": "stderr",
     "output_type": "stream",
     "text": [
      "/home/youssef/.local/lib/python3.8/site-packages/sklearn/linear_model/_logistic.py:814: ConvergenceWarning: lbfgs failed to converge (status=1):\n",
      "STOP: TOTAL NO. of ITERATIONS REACHED LIMIT.\n",
      "\n",
      "Increase the number of iterations (max_iter) or scale the data as shown in:\n",
      "    https://scikit-learn.org/stable/modules/preprocessing.html\n",
      "Please also refer to the documentation for alternative solver options:\n",
      "    https://scikit-learn.org/stable/modules/linear_model.html#logistic-regression\n",
      "  n_iter_i = _check_optimize_result(\n",
      "/home/youssef/.local/lib/python3.8/site-packages/sklearn/linear_model/_logistic.py:814: ConvergenceWarning: lbfgs failed to converge (status=1):\n",
      "STOP: TOTAL NO. of ITERATIONS REACHED LIMIT.\n",
      "\n",
      "Increase the number of iterations (max_iter) or scale the data as shown in:\n",
      "    https://scikit-learn.org/stable/modules/preprocessing.html\n",
      "Please also refer to the documentation for alternative solver options:\n",
      "    https://scikit-learn.org/stable/modules/linear_model.html#logistic-regression\n",
      "  n_iter_i = _check_optimize_result(\n"
     ]
    }
   ],
   "source": [
    "# sensitivity analysis of k in k-fold cross-validation\n",
    "from numpy import mean\n",
    "from sklearn.datasets import make_classification\n",
    "from sklearn.model_selection import LeaveOneOut\n",
    "from sklearn.model_selection import KFold\n",
    "from sklearn.model_selection import cross_val_score\n",
    "from sklearn.linear_model import LogisticRegression\n",
    "from matplotlib import pyplot\n",
    "from sklearn.feature_extraction.text import TfidfVectorizer\n",
    "\n",
    "def get_dataset(n_samples=100):\n",
    "    vectorizer= TfidfVectorizer()\n",
    "    X, y = vectorizer.fit_transform( df['joined_text']), df['label']\n",
    "    return X, y\n",
    "\n",
    "# retrieve the model to be evaluate\n",
    "def get_model():\n",
    "    model = LogisticRegression()\n",
    "    return model\n",
    "\n",
    "def get_models():\n",
    "    models=list()\n",
    "    models.append(LogisticRegression())\n",
    "    models.append(MultinomialNB())\n",
    "    models.append(MLPClassifier(random_state=33, max_iter=30, hidden_layer_sizes=(16,16), tol=1e-5, early_stopping=True, learning_rate_init=0.01))\n",
    "    return models\n",
    "\n",
    "models=get_models()\n",
    "# evaluate the model using a given test condition\n",
    "def evaluate_model(model,cv):\n",
    "    X, y = get_dataset()\n",
    "#     model = get_model()\n",
    "    scores = cross_val_score(model, X, y, scoring='accuracy', cv=cv, n_jobs=-1)\n",
    "    return scores,mean(scores), scores.min(), scores.max()\n",
    "\n",
    "\n",
    "\n",
    "# folds = range(2,31)\n",
    "\n",
    "\n",
    "scores,means, mins, maxs = list(),list(),list(),list()\n",
    "folds[10]\n",
    "k=10\n",
    "for model in models:\n",
    "    cv = KFold(n_splits=k, shuffle=True, random_state=1)\n",
    "    k_score ,k_mean, k_min, k_max = evaluate_model(model,cv)\n",
    "    print('> model:%s , folds=%d, accuracy=%.3f (%.3f,%.3f)' % (model,k, k_mean, k_min, k_max))\n",
    "\n",
    "    scores.append(k_score)\n",
    "    means.append(k_mean)\n",
    "    mins.append(k_mean - k_min)\n",
    "    maxs.append(k_max - k_mean)\n",
    "\n"
   ]
  },
  {
   "cell_type": "code",
   "execution_count": 15,
   "id": "ec0f63e9",
   "metadata": {},
   "outputs": [
    {
     "name": "stdout",
     "output_type": "stream",
     "text": [
      "Train:  (74999,) (74999,) Test:  ((25000,), (25000,))\n"
     ]
    }
   ],
   "source": [
    "#Splitting data\n",
    "x_train,x_test,y_train, y_test = train_test_split(df['joined_text'], df['label'], test_size=0.25, random_state=33)\n",
    "print(\"Train: \" ,x_train.shape,y_train.shape,\"Test: \",(x_test.shape,y_test.shape))"
   ]
  },
  {
   "cell_type": "code",
   "execution_count": 20,
   "id": "7e24cc02",
   "metadata": {
    "scrolled": true
   },
   "outputs": [],
   "source": [
    "#converting to tfidf\n",
    "from sklearn.feature_extraction.text import TfidfVectorizer\n",
    "vectorizer= TfidfVectorizer()\n",
    "x_train= vectorizer.fit_transform(x_train)\n",
    "x_test= vectorizer.fit_transform(x_test)\n"
   ]
  },
  {
   "cell_type": "code",
   "execution_count": 24,
   "id": "fb087647",
   "metadata": {},
   "outputs": [
    {
     "name": "stdout",
     "output_type": "stream",
     "text": [
      "x-training data: (74999, 3593) \n",
      "x-testing data: (25000, 3593)\n"
     ]
    }
   ],
   "source": [
    "print(\"x-training data:\",x_train.shape,\"\\nx-testing data:\",x_test.shape)"
   ]
  },
  {
   "cell_type": "markdown",
   "id": "934651b7",
   "metadata": {},
   "source": [
    "# Model Selection"
   ]
  },
  {
   "cell_type": "markdown",
   "id": "45242c5b",
   "metadata": {},
   "source": [
    "## Decision Trees"
   ]
  },
  {
   "cell_type": "code",
   "execution_count": 25,
   "id": "e4e035a6",
   "metadata": {},
   "outputs": [
    {
     "name": "stdout",
     "output_type": "stream",
     "text": [
      "              precision    recall  f1-score   support\n",
      "\n",
      "          -1       0.56      0.57      0.56      8159\n",
      "           0       0.46      0.46      0.46      8337\n",
      "           1       0.57      0.56      0.57      8504\n",
      "\n",
      "    accuracy                           0.53     25000\n",
      "   macro avg       0.53      0.53      0.53     25000\n",
      "weighted avg       0.53      0.53      0.53     25000\n",
      "\n"
     ]
    }
   ],
   "source": [
    "DT_clf = DecisionTreeClassifier(random_state=33).fit(x_train, y_train)\n",
    "DT_pred = DT_clf.predict(x_test)\n",
    "\n",
    "print(classification_report(y_test, DT_pred))\n"
   ]
  },
  {
   "cell_type": "code",
   "execution_count": 41,
   "id": "121377cf",
   "metadata": {
    "scrolled": true
   },
   "outputs": [
    {
     "data": {
      "text/plain": [
       "<AxesSubplot:>"
      ]
     },
     "execution_count": 41,
     "metadata": {},
     "output_type": "execute_result"
    },
    {
     "data": {
      "image/png": "[encoded data removed]",
      "text/plain": [
       "<Figure size 432x288 with 2 Axes>"
      ]
     },
     "metadata": {
      "needs_background": "light"
     },
     "output_type": "display_data"
    }
   ],
   "source": [
    "DT_cnf_matrix=confusion_matrix(y_test,DT_pred)\n",
    "sns.heatmap(DT_cnf_matrix,annot=True)"
   ]
  },
  {
   "cell_type": "markdown",
   "id": "15f4ad39",
   "metadata": {},
   "source": [
    "## Naive Bayes"
   ]
  },
  {
   "cell_type": "code",
   "execution_count": 48,
   "id": "f6131167",
   "metadata": {
    "scrolled": true
   },
   "outputs": [
    {
     "name": "stdout",
     "output_type": "stream",
     "text": [
      "              precision    recall  f1-score   support\n",
      "\n",
      "          -1       0.53      0.60      0.56      8159\n",
      "           0       0.45      0.36      0.40      8337\n",
      "           1       0.56      0.59      0.57      8504\n",
      "\n",
      "    accuracy                           0.52     25000\n",
      "   macro avg       0.51      0.52      0.51     25000\n",
      "weighted avg       0.51      0.52      0.51     25000\n",
      "\n"
     ]
    }
   ],
   "source": [
    "NV_clf = GaussianNB().fit(x_train.toarray(), y_train)\n",
    "NV_pred = NV_clf.predict(x_test.toarray())\n",
    "print(classification_report(y_test, NV_pred))"
   ]
  },
  {
   "cell_type": "code",
   "execution_count": 58,
   "id": "bfa9a524",
   "metadata": {},
   "outputs": [],
   "source": [
    "from sklearn.naive_bayes import MultinomialNB\n",
    "NV_clf = MultinomialNB().fit(x_train, y_train)\n",
    "NV_pred = NV_clf.predict(x_test)"
   ]
  },
  {
   "cell_type": "code",
   "execution_count": 59,
   "id": "7a0cc585",
   "metadata": {},
   "outputs": [
    {
     "name": "stdout",
     "output_type": "stream",
     "text": [
      "              precision    recall  f1-score   support\n",
      "\n",
      "          -1       0.64      0.67      0.66      8159\n",
      "           0       0.52      0.53      0.53      8337\n",
      "           1       0.68      0.63      0.66      8504\n",
      "\n",
      "    accuracy                           0.61     25000\n",
      "   macro avg       0.61      0.61      0.61     25000\n",
      "weighted avg       0.61      0.61      0.61     25000\n",
      "\n"
     ]
    }
   ],
   "source": [
    "print(classification_report(y_test, NV_pred))"
   ]
  },
  {
   "cell_type": "code",
   "execution_count": 49,
   "id": "dc64fea2",
   "metadata": {
    "scrolled": false
   },
   "outputs": [
    {
     "data": {
      "text/plain": [
       "<AxesSubplot:>"
      ]
     },
     "execution_count": 49,
     "metadata": {},
     "output_type": "execute_result"
    },
    {
     "data": {
      "image/png": "[encoded data removed]",
      "text/plain": [
       "<Figure size 432x288 with 2 Axes>"
      ]
     },
     "metadata": {
      "needs_background": "light"
     },
     "output_type": "display_data"
    }
   ],
   "source": [
    "NV_cnf_matrix=confusion_matrix(y_test,NV_pred)\n",
    "sns.heatmap(NV_cnf_matrix,annot=True)"
   ]
  },
  {
   "cell_type": "markdown",
   "id": "bfcefd1f",
   "metadata": {},
   "source": [
    "## Neural Network"
   ]
  },
  {
   "cell_type": "code",
   "execution_count": 50,
   "id": "31486b33",
   "metadata": {},
   "outputs": [
    {
     "name": "stdout",
     "output_type": "stream",
     "text": [
      "              precision    recall  f1-score   support\n",
      "\n",
      "          -1       0.70      0.67      0.68      8159\n",
      "           0       0.53      0.57      0.55      8337\n",
      "           1       0.70      0.68      0.69      8504\n",
      "\n",
      "    accuracy                           0.64     25000\n",
      "   macro avg       0.64      0.64      0.64     25000\n",
      "weighted avg       0.64      0.64      0.64     25000\n",
      "\n"
     ]
    }
   ],
   "source": [
    "NN_clf_stop = MLPClassifier(random_state=33, max_iter=30, hidden_layer_sizes=(16,16), tol=1e-5, early_stopping=True, learning_rate_init=0.01)\n",
    "NN_clf_stop.fit(x_train, y_train)\n",
    "NN_pred_stop = NN_clf_stop.predict(x_test)\n",
    "print(classification_report(y_test, NN_pred_stop))"
   ]
  },
  {
   "cell_type": "code",
   "execution_count": 51,
   "id": "aa1e1422",
   "metadata": {},
   "outputs": [
    {
     "data": {
      "text/plain": [
       "<AxesSubplot:>"
      ]
     },
     "execution_count": 51,
     "metadata": {},
     "output_type": "execute_result"
    },
    {
     "data": {
      "image/png": "[encoded data removed]",
      "text/plain": [
       "<Figure size 432x288 with 2 Axes>"
      ]
     },
     "metadata": {
      "needs_background": "light"
     },
     "output_type": "display_data"
    }
   ],
   "source": [
    "NN_cnf_matrix=confusion_matrix(y_test,NN_pred_stop)\n",
    "sns.heatmap(NN_cnf_matrix,annot=True)"
   ]
  },
  {
   "cell_type": "markdown",
   "id": "b6dcae65",
   "metadata": {},
   "source": [
    "## SVM"
   ]
  },
  {
   "cell_type": "code",
   "execution_count": 52,
   "id": "fc100ec1",
   "metadata": {},
   "outputs": [
    {
     "name": "stdout",
     "output_type": "stream",
     "text": [
      "              precision    recall  f1-score   support\n",
      "\n",
      "          -1       0.64      0.65      0.65      8159\n",
      "           0       0.50      0.52      0.51      8337\n",
      "           1       0.66      0.63      0.64      8504\n",
      "\n",
      "    accuracy                           0.60     25000\n",
      "   macro avg       0.60      0.60      0.60     25000\n",
      "weighted avg       0.60      0.60      0.60     25000\n",
      "\n"
     ]
    }
   ],
   "source": [
    "SGD_SVM_clf = make_pipeline(StandardScaler(with_mean=False), SGDClassifier(max_iter=500, tol=1e-3,))\n",
    "SGD_SVM_clf.fit(x_train, y_train)\n",
    "SGD_SVM_pred = SGD_SVM_clf.predict(x_test)\n",
    "print(classification_report(y_test, SGD_SVM_pred))"
   ]
  },
  {
   "cell_type": "code",
   "execution_count": 53,
   "id": "11f5a493",
   "metadata": {},
   "outputs": [
    {
     "data": {
      "text/plain": [
       "<AxesSubplot:>"
      ]
     },
     "execution_count": 53,
     "metadata": {},
     "output_type": "execute_result"
    },
    {
     "data": {
      "image/png": "[encoded data removed]",
      "text/plain": [
       "<Figure size 432x288 with 2 Axes>"
      ]
     },
     "metadata": {
      "needs_background": "light"
     },
     "output_type": "display_data"
    }
   ],
   "source": [
    "SVM_cnf_matrix=confusion_matrix(y_test,NN_pred_stop)\n",
    "sns.heatmap(SVM_cnf_matrix,annot=True)"
   ]
  },
  {
   "cell_type": "markdown",
   "id": "423303ef",
   "metadata": {},
   "source": [
    "## Logistic Regression"
   ]
  },
  {
   "cell_type": "code",
   "execution_count": 56,
   "id": "14cc29e9",
   "metadata": {},
   "outputs": [
    {
     "name": "stdout",
     "output_type": "stream",
     "text": [
      "              precision    recall  f1-score   support\n",
      "\n",
      "          -1       0.68      0.70      0.69      8159\n",
      "           0       0.54      0.53      0.53      8337\n",
      "           1       0.69      0.68      0.68      8504\n",
      "\n",
      "    accuracy                           0.64     25000\n",
      "   macro avg       0.64      0.64      0.64     25000\n",
      "weighted avg       0.64      0.64      0.64     25000\n",
      "\n"
     ]
    }
   ],
   "source": [
    "LR_clf = LogisticRegression(max_iter=1000,solver='saga')\n",
    "LR_clf.fit(x_train,y_train)\n",
    "LR_pred=LR_clf.predict(x_test)\n",
    "print(classification_report(y_test, LR_pred))"
   ]
  },
  {
   "cell_type": "code",
   "execution_count": 57,
   "id": "3bc04d3c",
   "metadata": {},
   "outputs": [
    {
     "data": {
      "text/plain": [
       "<AxesSubplot:>"
      ]
     },
     "execution_count": 57,
     "metadata": {},
     "output_type": "execute_result"
    },
    {
     "data": {
      "image/png": "[encoded data removed]",
      "text/plain": [
       "<Figure size 432x288 with 2 Axes>"
      ]
     },
     "metadata": {
      "needs_background": "light"
     },
     "output_type": "display_data"
    }
   ],
   "source": [
    "LR_cnf_matrix=confusion_matrix(y_test,NN_pred_stop)\n",
    "sns.heatmap(LR_cnf_matrix,annot=True)"
   ]
  }
 ],
 "metadata": {
  "kernelspec": {
   "display_name": "Python 3 (ipykernel)",
   "language": "python",
   "name": "python3"
  },
  "language_info": {
   "codemirror_mode": {
    "name": "ipython",
    "version": 3
   },
   "file_extension": ".py",
   "mimetype": "text/x-python",
   "name": "python",
   "nbconvert_exporter": "python",
   "pygments_lexer": "ipython3",
   "version": "3.8.10"
  }
 },
 "nbformat": 4,
 "nbformat_minor": 5
}
