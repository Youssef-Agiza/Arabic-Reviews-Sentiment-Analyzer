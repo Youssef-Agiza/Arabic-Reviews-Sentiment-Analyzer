{
  "cells": [
    {
      "cell_type": "code",
      "execution_count": null,
      "metadata": {
        "colab": {
          "base_uri": "https://localhost:8080/"
        },
        "id": "3vOBIm7roPJl",
        "outputId": "1d54d5a7-7bc9-4443-891f-11d5a7332d23"
      },
      "outputs": [
        {
          "output_type": "stream",
          "name": "stdout",
          "text": [
            "Drive already mounted at /content/gdrive; to attempt to forcibly remount, call drive.mount(\"/content/gdrive\", force_remount=True).\n"
          ]
        }
      ],
      "source": [
        "from google.colab import drive\n",
        "drive.mount(\"/content/gdrive\")"
      ]
    },
    {
      "cell_type": "markdown",
      "metadata": {
        "id": "aAyAMkaIxd3I"
      },
      "source": [
        "# Importing the dataset into a dataframe"
      ]
    },
    {
      "cell_type": "code",
      "execution_count": null,
      "metadata": {
        "id": "-6crIx2oi4Pc"
      },
      "outputs": [],
      "source": [
        "import pandas as pd\n",
        "import numpy as np\n",
        "import matplotlib.pyplot as plt\n",
        "import nltk\n",
        "\n",
        "import seaborn as sns\n",
        "\n",
        "from sklearn.metrics import confusion_matrix\n",
        "import sklearn.metrics as metrics\n",
        "import sklearn.model_selection as ms\n",
        "import sklearn.preprocessing as preprocess\n",
        "from sklearn.model_selection import train_test_split\n",
        "import pickle\n",
        "from sklearn.metrics import classification_report"
      ]
    },
    {
      "cell_type": "code",
      "execution_count": null,
      "metadata": {
        "id": "hzWTMvpC9irH"
      },
      "outputs": [],
      "source": [
        "# !pip install pyarabic\n",
        "# !pip install langdetect\n",
        "# !pip install nltk\n",
        "\n",
        "# from langdetect import detect\n",
        "# import pyarabic.araby as araby\n",
        "# nltk.download(\"all\")\n"
      ]
    },
    {
      "cell_type": "code",
      "execution_count": null,
      "metadata": {
        "colab": {
          "base_uri": "https://localhost:8080/",
          "height": 206
        },
        "id": "NUB2WuqFoA9N",
        "outputId": "816acdbf-c51b-41ab-ad5d-d5014f2fca6a",
        "scrolled": false
      },
      "outputs": [
        {
          "output_type": "execute_result",
          "data": {
            "text/plain": [
              "   label                                               text\n",
              "0      1                   متز نوع ما نظف وقع جهز شاطيء طعم\n",
              "1      1  احد سبب نجح امر كل شخص هذه دول عشق ترب نحن نحب...\n",
              "2      1  هدف نقل صخب شرع قهر هدء جبل شيش عرف حقق ما جرى...\n",
              "3      1  خلص بدء الل بهر زي فيل زرق حمد راد خطى رحل قرء...\n",
              "4      1            ياس جزء لا دبي ندق كامل خدم ريح نفس وجد"
            ],
            "text/html": [
              "\n",
              "  <div id=\"df-51ce6a6b-9d0c-461d-9dbf-231e6c321cb0\">\n",
              "    <div class=\"colab-df-container\">\n",
              "      <div>\n",
              "<style scoped>\n",
              "    .dataframe tbody tr th:only-of-type {\n",
              "        vertical-align: middle;\n",
              "    }\n",
              "\n",
              "    .dataframe tbody tr th {\n",
              "        vertical-align: top;\n",
              "    }\n",
              "\n",
              "    .dataframe thead th {\n",
              "        text-align: right;\n",
              "    }\n",
              "</style>\n",
              "<table border=\"1\" class=\"dataframe\">\n",
              "  <thead>\n",
              "    <tr style=\"text-align: right;\">\n",
              "      <th></th>\n",
              "      <th>label</th>\n",
              "      <th>text</th>\n",
              "    </tr>\n",
              "  </thead>\n",
              "  <tbody>\n",
              "    <tr>\n",
              "      <th>0</th>\n",
              "      <td>1</td>\n",
              "      <td>متز نوع ما نظف وقع جهز شاطيء طعم</td>\n",
              "    </tr>\n",
              "    <tr>\n",
              "      <th>1</th>\n",
              "      <td>1</td>\n",
              "      <td>احد سبب نجح امر كل شخص هذه دول عشق ترب نحن نحب...</td>\n",
              "    </tr>\n",
              "    <tr>\n",
              "      <th>2</th>\n",
              "      <td>1</td>\n",
              "      <td>هدف نقل صخب شرع قهر هدء جبل شيش عرف حقق ما جرى...</td>\n",
              "    </tr>\n",
              "    <tr>\n",
              "      <th>3</th>\n",
              "      <td>1</td>\n",
              "      <td>خلص بدء الل بهر زي فيل زرق حمد راد خطى رحل قرء...</td>\n",
              "    </tr>\n",
              "    <tr>\n",
              "      <th>4</th>\n",
              "      <td>1</td>\n",
              "      <td>ياس جزء لا دبي ندق كامل خدم ريح نفس وجد</td>\n",
              "    </tr>\n",
              "  </tbody>\n",
              "</table>\n",
              "</div>\n",
              "      <button class=\"colab-df-convert\" onclick=\"convertToInteractive('df-51ce6a6b-9d0c-461d-9dbf-231e6c321cb0')\"\n",
              "              title=\"Convert this dataframe to an interactive table.\"\n",
              "              style=\"display:none;\">\n",
              "        \n",
              "  <svg xmlns=\"http://www.w3.org/2000/svg\" height=\"24px\"viewBox=\"0 0 24 24\"\n",
              "       width=\"24px\">\n",
              "    <path d=\"M0 0h24v24H0V0z\" fill=\"none\"/>\n",
              "    <path d=\"M18.56 5.44l.94 2.06.94-2.06 2.06-.94-2.06-.94-.94-2.06-.94 2.06-2.06.94zm-11 1L8.5 8.5l.94-2.06 2.06-.94-2.06-.94L8.5 2.5l-.94 2.06-2.06.94zm10 10l.94 2.06.94-2.06 2.06-.94-2.06-.94-.94-2.06-.94 2.06-2.06.94z\"/><path d=\"M17.41 7.96l-1.37-1.37c-.4-.4-.92-.59-1.43-.59-.52 0-1.04.2-1.43.59L10.3 9.45l-7.72 7.72c-.78.78-.78 2.05 0 2.83L4 21.41c.39.39.9.59 1.41.59.51 0 1.02-.2 1.41-.59l7.78-7.78 2.81-2.81c.8-.78.8-2.07 0-2.86zM5.41 20L4 18.59l7.72-7.72 1.47 1.35L5.41 20z\"/>\n",
              "  </svg>\n",
              "      </button>\n",
              "      \n",
              "  <style>\n",
              "    .colab-df-container {\n",
              "      display:flex;\n",
              "      flex-wrap:wrap;\n",
              "      gap: 12px;\n",
              "    }\n",
              "\n",
              "    .colab-df-convert {\n",
              "      background-color: #E8F0FE;\n",
              "      border: none;\n",
              "      border-radius: 50%;\n",
              "      cursor: pointer;\n",
              "      display: none;\n",
              "      fill: #1967D2;\n",
              "      height: 32px;\n",
              "      padding: 0 0 0 0;\n",
              "      width: 32px;\n",
              "    }\n",
              "\n",
              "    .colab-df-convert:hover {\n",
              "      background-color: #E2EBFA;\n",
              "      box-shadow: 0px 1px 2px rgba(60, 64, 67, 0.3), 0px 1px 3px 1px rgba(60, 64, 67, 0.15);\n",
              "      fill: #174EA6;\n",
              "    }\n",
              "\n",
              "    [theme=dark] .colab-df-convert {\n",
              "      background-color: #3B4455;\n",
              "      fill: #D2E3FC;\n",
              "    }\n",
              "\n",
              "    [theme=dark] .colab-df-convert:hover {\n",
              "      background-color: #434B5C;\n",
              "      box-shadow: 0px 1px 3px 1px rgba(0, 0, 0, 0.15);\n",
              "      filter: drop-shadow(0px 1px 2px rgba(0, 0, 0, 0.3));\n",
              "      fill: #FFFFFF;\n",
              "    }\n",
              "  </style>\n",
              "\n",
              "      <script>\n",
              "        const buttonEl =\n",
              "          document.querySelector('#df-51ce6a6b-9d0c-461d-9dbf-231e6c321cb0 button.colab-df-convert');\n",
              "        buttonEl.style.display =\n",
              "          google.colab.kernel.accessAllowed ? 'block' : 'none';\n",
              "\n",
              "        async function convertToInteractive(key) {\n",
              "          const element = document.querySelector('#df-51ce6a6b-9d0c-461d-9dbf-231e6c321cb0');\n",
              "          const dataTable =\n",
              "            await google.colab.kernel.invokeFunction('convertToInteractive',\n",
              "                                                     [key], {});\n",
              "          if (!dataTable) return;\n",
              "\n",
              "          const docLinkHtml = 'Like what you see? Visit the ' +\n",
              "            '<a target=\"_blank\" href=https://colab.research.google.com/notebooks/data_table.ipynb>data table notebook</a>'\n",
              "            + ' to learn more about interactive tables.';\n",
              "          element.innerHTML = '';\n",
              "          dataTable['output_type'] = 'display_data';\n",
              "          await google.colab.output.renderOutput(dataTable, element);\n",
              "          const docLink = document.createElement('div');\n",
              "          docLink.innerHTML = docLinkHtml;\n",
              "          element.appendChild(docLink);\n",
              "        }\n",
              "      </script>\n",
              "    </div>\n",
              "  </div>\n",
              "  "
            ]
          },
          "metadata": {},
          "execution_count": 32
        }
      ],
      "source": [
        "# dataset_folder_path=\"/home/youssef/AUC/Spring22/CSCE493002 - Machine Learning/project/repo/datasets\"\n",
        "dataset_folder_path=\"/content/gdrive/My Drive/Colab Notebooks\"\n",
        "df = pd.read_csv(dataset_folder_path+'/cleanedText.csv')\n",
        "# df = pd.read_csv(dataset_folder_path+'/ar_reviews_100k.csv')\n",
        "df.dropna(inplace=True)\n",
        "df.head()"
      ]
    },
    {
      "cell_type": "code",
      "execution_count": null,
      "metadata": {
        "id": "FC1alPvboA9P"
      },
      "outputs": [],
      "source": [
        "df_copy=df.copy()"
      ]
    },
    {
      "cell_type": "code",
      "execution_count": null,
      "metadata": {
        "colab": {
          "base_uri": "https://localhost:8080/",
          "height": 424
        },
        "id": "HXHH9a8uoA9Q",
        "outputId": "a39e7705-e6db-4731-fe35-6a07f1d73e3c"
      },
      "outputs": [
        {
          "output_type": "execute_result",
          "data": {
            "text/plain": [
              "       label                                               text\n",
              "0          1                   متز نوع ما نظف وقع جهز شاطيء طعم\n",
              "1          1  احد سبب نجح امر كل شخص هذه دول عشق ترب نحن نحب...\n",
              "2          1  هدف نقل صخب شرع قهر هدء جبل شيش عرف حقق ما جرى...\n",
              "3          1  خلص بدء الل بهر زي فيل زرق حمد راد خطى رحل قرء...\n",
              "4          1            ياس جزء لا دبي ندق كامل خدم ريح نفس وجد\n",
              "...      ...                                                ...\n",
              "66661      0  عرفش ليه كنت كمل وهي مش عجب حدث بطء ممل روي اط...\n",
              "66662      0  لا سحق يكون كنق لنه سيء شي وجد خدم فطر صبح ستي...\n",
              "66663      0      ضعف جدا ولم متع به كل قصه سرد لحل شهد بدن فكر\n",
              "66664      0  ملة جدا حمد حسن علو فنن وصف عند دقق حد ثني قرء...\n",
              "66665      0  لن رجع اله مرة خرى قرب بحر كان قدم ولا وجد خدم...\n",
              "\n",
              "[66555 rows x 2 columns]"
            ],
            "text/html": [
              "\n",
              "  <div id=\"df-703caa89-2ced-4236-beb6-a11a798644ce\">\n",
              "    <div class=\"colab-df-container\">\n",
              "      <div>\n",
              "<style scoped>\n",
              "    .dataframe tbody tr th:only-of-type {\n",
              "        vertical-align: middle;\n",
              "    }\n",
              "\n",
              "    .dataframe tbody tr th {\n",
              "        vertical-align: top;\n",
              "    }\n",
              "\n",
              "    .dataframe thead th {\n",
              "        text-align: right;\n",
              "    }\n",
              "</style>\n",
              "<table border=\"1\" class=\"dataframe\">\n",
              "  <thead>\n",
              "    <tr style=\"text-align: right;\">\n",
              "      <th></th>\n",
              "      <th>label</th>\n",
              "      <th>text</th>\n",
              "    </tr>\n",
              "  </thead>\n",
              "  <tbody>\n",
              "    <tr>\n",
              "      <th>0</th>\n",
              "      <td>1</td>\n",
              "      <td>متز نوع ما نظف وقع جهز شاطيء طعم</td>\n",
              "    </tr>\n",
              "    <tr>\n",
              "      <th>1</th>\n",
              "      <td>1</td>\n",
              "      <td>احد سبب نجح امر كل شخص هذه دول عشق ترب نحن نحب...</td>\n",
              "    </tr>\n",
              "    <tr>\n",
              "      <th>2</th>\n",
              "      <td>1</td>\n",
              "      <td>هدف نقل صخب شرع قهر هدء جبل شيش عرف حقق ما جرى...</td>\n",
              "    </tr>\n",
              "    <tr>\n",
              "      <th>3</th>\n",
              "      <td>1</td>\n",
              "      <td>خلص بدء الل بهر زي فيل زرق حمد راد خطى رحل قرء...</td>\n",
              "    </tr>\n",
              "    <tr>\n",
              "      <th>4</th>\n",
              "      <td>1</td>\n",
              "      <td>ياس جزء لا دبي ندق كامل خدم ريح نفس وجد</td>\n",
              "    </tr>\n",
              "    <tr>\n",
              "      <th>...</th>\n",
              "      <td>...</td>\n",
              "      <td>...</td>\n",
              "    </tr>\n",
              "    <tr>\n",
              "      <th>66661</th>\n",
              "      <td>0</td>\n",
              "      <td>عرفش ليه كنت كمل وهي مش عجب حدث بطء ممل روي اط...</td>\n",
              "    </tr>\n",
              "    <tr>\n",
              "      <th>66662</th>\n",
              "      <td>0</td>\n",
              "      <td>لا سحق يكون كنق لنه سيء شي وجد خدم فطر صبح ستي...</td>\n",
              "    </tr>\n",
              "    <tr>\n",
              "      <th>66663</th>\n",
              "      <td>0</td>\n",
              "      <td>ضعف جدا ولم متع به كل قصه سرد لحل شهد بدن فكر</td>\n",
              "    </tr>\n",
              "    <tr>\n",
              "      <th>66664</th>\n",
              "      <td>0</td>\n",
              "      <td>ملة جدا حمد حسن علو فنن وصف عند دقق حد ثني قرء...</td>\n",
              "    </tr>\n",
              "    <tr>\n",
              "      <th>66665</th>\n",
              "      <td>0</td>\n",
              "      <td>لن رجع اله مرة خرى قرب بحر كان قدم ولا وجد خدم...</td>\n",
              "    </tr>\n",
              "  </tbody>\n",
              "</table>\n",
              "<p>66555 rows × 2 columns</p>\n",
              "</div>\n",
              "      <button class=\"colab-df-convert\" onclick=\"convertToInteractive('df-703caa89-2ced-4236-beb6-a11a798644ce')\"\n",
              "              title=\"Convert this dataframe to an interactive table.\"\n",
              "              style=\"display:none;\">\n",
              "        \n",
              "  <svg xmlns=\"http://www.w3.org/2000/svg\" height=\"24px\"viewBox=\"0 0 24 24\"\n",
              "       width=\"24px\">\n",
              "    <path d=\"M0 0h24v24H0V0z\" fill=\"none\"/>\n",
              "    <path d=\"M18.56 5.44l.94 2.06.94-2.06 2.06-.94-2.06-.94-.94-2.06-.94 2.06-2.06.94zm-11 1L8.5 8.5l.94-2.06 2.06-.94-2.06-.94L8.5 2.5l-.94 2.06-2.06.94zm10 10l.94 2.06.94-2.06 2.06-.94-2.06-.94-.94-2.06-.94 2.06-2.06.94z\"/><path d=\"M17.41 7.96l-1.37-1.37c-.4-.4-.92-.59-1.43-.59-.52 0-1.04.2-1.43.59L10.3 9.45l-7.72 7.72c-.78.78-.78 2.05 0 2.83L4 21.41c.39.39.9.59 1.41.59.51 0 1.02-.2 1.41-.59l7.78-7.78 2.81-2.81c.8-.78.8-2.07 0-2.86zM5.41 20L4 18.59l7.72-7.72 1.47 1.35L5.41 20z\"/>\n",
              "  </svg>\n",
              "      </button>\n",
              "      \n",
              "  <style>\n",
              "    .colab-df-container {\n",
              "      display:flex;\n",
              "      flex-wrap:wrap;\n",
              "      gap: 12px;\n",
              "    }\n",
              "\n",
              "    .colab-df-convert {\n",
              "      background-color: #E8F0FE;\n",
              "      border: none;\n",
              "      border-radius: 50%;\n",
              "      cursor: pointer;\n",
              "      display: none;\n",
              "      fill: #1967D2;\n",
              "      height: 32px;\n",
              "      padding: 0 0 0 0;\n",
              "      width: 32px;\n",
              "    }\n",
              "\n",
              "    .colab-df-convert:hover {\n",
              "      background-color: #E2EBFA;\n",
              "      box-shadow: 0px 1px 2px rgba(60, 64, 67, 0.3), 0px 1px 3px 1px rgba(60, 64, 67, 0.15);\n",
              "      fill: #174EA6;\n",
              "    }\n",
              "\n",
              "    [theme=dark] .colab-df-convert {\n",
              "      background-color: #3B4455;\n",
              "      fill: #D2E3FC;\n",
              "    }\n",
              "\n",
              "    [theme=dark] .colab-df-convert:hover {\n",
              "      background-color: #434B5C;\n",
              "      box-shadow: 0px 1px 3px 1px rgba(0, 0, 0, 0.15);\n",
              "      filter: drop-shadow(0px 1px 2px rgba(0, 0, 0, 0.3));\n",
              "      fill: #FFFFFF;\n",
              "    }\n",
              "  </style>\n",
              "\n",
              "      <script>\n",
              "        const buttonEl =\n",
              "          document.querySelector('#df-703caa89-2ced-4236-beb6-a11a798644ce button.colab-df-convert');\n",
              "        buttonEl.style.display =\n",
              "          google.colab.kernel.accessAllowed ? 'block' : 'none';\n",
              "\n",
              "        async function convertToInteractive(key) {\n",
              "          const element = document.querySelector('#df-703caa89-2ced-4236-beb6-a11a798644ce');\n",
              "          const dataTable =\n",
              "            await google.colab.kernel.invokeFunction('convertToInteractive',\n",
              "                                                     [key], {});\n",
              "          if (!dataTable) return;\n",
              "\n",
              "          const docLinkHtml = 'Like what you see? Visit the ' +\n",
              "            '<a target=\"_blank\" href=https://colab.research.google.com/notebooks/data_table.ipynb>data table notebook</a>'\n",
              "            + ' to learn more about interactive tables.';\n",
              "          element.innerHTML = '';\n",
              "          dataTable['output_type'] = 'display_data';\n",
              "          await google.colab.output.renderOutput(dataTable, element);\n",
              "          const docLink = document.createElement('div');\n",
              "          docLink.innerHTML = docLinkHtml;\n",
              "          element.appendChild(docLink);\n",
              "        }\n",
              "      </script>\n",
              "    </div>\n",
              "  </div>\n",
              "  "
            ]
          },
          "metadata": {},
          "execution_count": 34
        }
      ],
      "source": [
        "df_copy[\"text\"]=df_copy['text'].values.astype('U')\n",
        "df"
      ]
    },
    {
      "cell_type": "markdown",
      "metadata": {
        "id": "sS_JX_DvoA9Q"
      },
      "source": [
        "# Preprocessing"
      ]
    },
    {
      "cell_type": "code",
      "execution_count": null,
      "metadata": {
        "id": "Y8qEqefXoA9R",
        "colab": {
          "base_uri": "https://localhost:8080/",
          "height": 373
        },
        "outputId": "c1c8eb76-3114-4526-d46c-e096ad787b43"
      },
      "outputs": [
        {
          "output_type": "error",
          "ename": "ModuleNotFoundError",
          "evalue": "ignored",
          "traceback": [
            "\u001b[0;31m---------------------------------------------------------------------------\u001b[0m",
            "\u001b[0;31mModuleNotFoundError\u001b[0m                       Traceback (most recent call last)",
            "\u001b[0;32m<ipython-input-8-baa42baae74d>\u001b[0m in \u001b[0;36m<module>\u001b[0;34m()\u001b[0m\n\u001b[1;32m      1\u001b[0m \u001b[0;32mimport\u001b[0m \u001b[0mnumpy\u001b[0m \u001b[0;32mas\u001b[0m \u001b[0mnp\u001b[0m\u001b[0;34m\u001b[0m\u001b[0;34m\u001b[0m\u001b[0m\n\u001b[0;32m----> 2\u001b[0;31m \u001b[0;32mfrom\u001b[0m \u001b[0mlangdetect\u001b[0m \u001b[0;32mimport\u001b[0m \u001b[0mdetect\u001b[0m\u001b[0;34m\u001b[0m\u001b[0;34m\u001b[0m\u001b[0m\n\u001b[0m\u001b[1;32m      3\u001b[0m \u001b[0;32mfrom\u001b[0m \u001b[0mnltk\u001b[0m\u001b[0;34m.\u001b[0m\u001b[0mstem\u001b[0m\u001b[0;34m.\u001b[0m\u001b[0misri\u001b[0m \u001b[0;32mimport\u001b[0m \u001b[0mISRIStemmer\u001b[0m\u001b[0;34m\u001b[0m\u001b[0;34m\u001b[0m\u001b[0m\n\u001b[1;32m      4\u001b[0m \u001b[0;32mfrom\u001b[0m \u001b[0mnltk\u001b[0m \u001b[0;32mimport\u001b[0m \u001b[0mword_tokenize\u001b[0m\u001b[0;34m\u001b[0m\u001b[0;34m\u001b[0m\u001b[0m\n\u001b[1;32m      5\u001b[0m \u001b[0;32mimport\u001b[0m \u001b[0mpyarabic\u001b[0m\u001b[0;34m.\u001b[0m\u001b[0maraby\u001b[0m \u001b[0;32mas\u001b[0m \u001b[0maraby\u001b[0m\u001b[0;34m\u001b[0m\u001b[0;34m\u001b[0m\u001b[0m\n",
            "\u001b[0;31mModuleNotFoundError\u001b[0m: No module named 'langdetect'",
            "",
            "\u001b[0;31m---------------------------------------------------------------------------\u001b[0;32m\nNOTE: If your import is failing due to a missing package, you can\nmanually install dependencies using either !pip or !apt.\n\nTo view examples of installing some common dependencies, click the\n\"Open Examples\" button below.\n\u001b[0;31m---------------------------------------------------------------------------\u001b[0m\n"
          ],
          "errorDetails": {
            "actions": [
              {
                "action": "open_url",
                "actionText": "Open Examples",
                "url": "/notebooks/snippets/importing_libraries.ipynb"
              }
            ]
          }
        }
      ],
      "source": [
        "import numpy as np\n",
        "from langdetect import detect\n",
        "from nltk.stem.isri import ISRIStemmer\n",
        "from nltk import word_tokenize\n",
        "import pyarabic.araby as araby\n",
        "# from sklearn.feature_extraction.text import TfidfVectorizer\n",
        "import pickle\n",
        "\n",
        "\n",
        "class Preprocessor:\n",
        "    def __init__(self,vectorizer_path=None):\n",
        "        self.vectorizer=None \n",
        "        if vectorizer_path:\n",
        "            self.load_tfidf_vectorizer(vectorizer_path)\n",
        "    \n",
        "    def load_tfidf_vectorizer(self,path):\n",
        "        file=open(path,'rb')\n",
        "        self.vectorizer=pickle.load(file)\n",
        "        file.close()\n",
        "    \n",
        "    def save_tfidf_vectorizer(self,path):\n",
        "        if not self.vectorizer:\n",
        "            return None\n",
        "        file=open(path,\"wb\")\n",
        "        pickle.dump(file,self.vectorizer)\n",
        "        file.close()\n",
        "    \n",
        "    def preprocess(self,sentence,vectorizer_path=\"\"):\n",
        "#         if not self.vectorizer and vectorizer_path==\"\":\n",
        "#             return None\n",
        "\n",
        "        # if not self.detect_lang(sentence):\n",
        "        #     print(\"sentence Not arabic!\")\n",
        "        #     return None\n",
        "        \n",
        "        result=self.stem(sentence)\n",
        "        result=self.normalize(result)\n",
        "        result=self.remove_redundant_words(result)\n",
        "\n",
        "\n",
        "\n",
        "        return result\n",
        "\n",
        "\n",
        "    def detect_lang(self,sentence):\n",
        "        try:\n",
        "            print(\"\\n\\nhere\\n\\n\")\n",
        "            language = detect(sentence)\n",
        "            print(\"\\n\\nhere2\\n\\n\")\n",
        "\n",
        "            if language != 'ar':\n",
        "                return False\n",
        "        except:\n",
        "                return False\n",
        "        print(\"returning true\")\n",
        "        return True\n",
        "\n",
        "    def stem(self,sentence):\n",
        "        st = ISRIStemmer()\n",
        "        stemmed_sentence=\"\"\n",
        "        for a in word_tokenize(sentence):\n",
        "            stemmed=st.stem(a)\n",
        "            stemmed_sentence+=(stemmed+\" \")\n",
        "        return stemmed_sentence\n",
        "    \n",
        "    def normalize(self,sentence):\n",
        "        normalized=sentence\n",
        "        normalized=araby.strip_tashkeel(normalized)\n",
        "        normalized= araby.strip_tatweel(normalized)\n",
        "        normalized=araby.normalize_hamza(normalized)\n",
        "        return normalized\n",
        "    \n",
        "    \n",
        "\n",
        "    def remove_redundant_words(self,sentence):\n",
        "        stop_words=['من','على','عن','ب','ك','ل','فى','و','ان','هذا','او','كتب','...','.','','الى','فيه','انه','قبل','//','..','،',':',\"؟\",'/']\n",
        "        words=sentence.split()\n",
        "        resultWords= [word for word in words if word not in stop_words]\n",
        "        return ' '.join(resultWords)\n",
        "    \n",
        "    def convert_to_tfidf(self,sentence):\n",
        "        if not self.vectorizer:\n",
        "            return None\n",
        "        print(self.vectorizer)\n",
        "        return self.vectorizer.transform([sentence])\n",
        "\n"
      ]
    },
    {
      "cell_type": "markdown",
      "metadata": {
        "id": "p0vLJdBwoA9S"
      },
      "source": [
        "# Shuffle"
      ]
    },
    {
      "cell_type": "code",
      "execution_count": null,
      "metadata": {
        "colab": {
          "base_uri": "https://localhost:8080/",
          "height": 424
        },
        "id": "6rSQG4_uoA9T",
        "outputId": "2ae33d24-b8d3-4d7e-c199-7b70525d1b27"
      },
      "outputs": [
        {
          "output_type": "execute_result",
          "data": {
            "text/plain": [
              "       label                                               text\n",
              "49567      0  ندق جيد جدا جمع عمل بصف عمه ماز بحس عدم وفر بع...\n",
              "34054      0  كانت قمة غير امن قرب حرم كنت نيم الا حصل عمل ن...\n",
              "66092      0                                        خدم فشل وقع\n",
              "27894      1  سلم يا ربى بتر ما طير غنى دير عظم ترث بقى خلد ...\n",
              "15692      1                                 اه كعد غزي قصب رءع\n",
              "...      ...                                                ...\n",
              "42056      0  روي لم ابد ليس قصة وضح طيع اقل ثلث قصص وحد اضف...\n",
              "21270      1  لءب يعط عقد دخل لحل بعض يجب قرت حفظ انت هنا ام...\n",
              "45957      0  به واد كثر خلف شرع سلم بعض حتى كنى نعم باب اخف...\n",
              "42676      0  ندق فشل لا همم حجز كينق تم تغر غرف طرق دون علم...\n",
              "43630      0             خيب امل لا يتم نظف غرف الا بعد هلك قدم\n",
              "\n",
              "[66555 rows x 2 columns]"
            ],
            "text/html": [
              "\n",
              "  <div id=\"df-d64137db-217e-46bb-99e0-5b02891806e9\">\n",
              "    <div class=\"colab-df-container\">\n",
              "      <div>\n",
              "<style scoped>\n",
              "    .dataframe tbody tr th:only-of-type {\n",
              "        vertical-align: middle;\n",
              "    }\n",
              "\n",
              "    .dataframe tbody tr th {\n",
              "        vertical-align: top;\n",
              "    }\n",
              "\n",
              "    .dataframe thead th {\n",
              "        text-align: right;\n",
              "    }\n",
              "</style>\n",
              "<table border=\"1\" class=\"dataframe\">\n",
              "  <thead>\n",
              "    <tr style=\"text-align: right;\">\n",
              "      <th></th>\n",
              "      <th>label</th>\n",
              "      <th>text</th>\n",
              "    </tr>\n",
              "  </thead>\n",
              "  <tbody>\n",
              "    <tr>\n",
              "      <th>49567</th>\n",
              "      <td>0</td>\n",
              "      <td>ندق جيد جدا جمع عمل بصف عمه ماز بحس عدم وفر بع...</td>\n",
              "    </tr>\n",
              "    <tr>\n",
              "      <th>34054</th>\n",
              "      <td>0</td>\n",
              "      <td>كانت قمة غير امن قرب حرم كنت نيم الا حصل عمل ن...</td>\n",
              "    </tr>\n",
              "    <tr>\n",
              "      <th>66092</th>\n",
              "      <td>0</td>\n",
              "      <td>خدم فشل وقع</td>\n",
              "    </tr>\n",
              "    <tr>\n",
              "      <th>27894</th>\n",
              "      <td>1</td>\n",
              "      <td>سلم يا ربى بتر ما طير غنى دير عظم ترث بقى خلد ...</td>\n",
              "    </tr>\n",
              "    <tr>\n",
              "      <th>15692</th>\n",
              "      <td>1</td>\n",
              "      <td>اه كعد غزي قصب رءع</td>\n",
              "    </tr>\n",
              "    <tr>\n",
              "      <th>...</th>\n",
              "      <td>...</td>\n",
              "      <td>...</td>\n",
              "    </tr>\n",
              "    <tr>\n",
              "      <th>42056</th>\n",
              "      <td>0</td>\n",
              "      <td>روي لم ابد ليس قصة وضح طيع اقل ثلث قصص وحد اضف...</td>\n",
              "    </tr>\n",
              "    <tr>\n",
              "      <th>21270</th>\n",
              "      <td>1</td>\n",
              "      <td>لءب يعط عقد دخل لحل بعض يجب قرت حفظ انت هنا ام...</td>\n",
              "    </tr>\n",
              "    <tr>\n",
              "      <th>45957</th>\n",
              "      <td>0</td>\n",
              "      <td>به واد كثر خلف شرع سلم بعض حتى كنى نعم باب اخف...</td>\n",
              "    </tr>\n",
              "    <tr>\n",
              "      <th>42676</th>\n",
              "      <td>0</td>\n",
              "      <td>ندق فشل لا همم حجز كينق تم تغر غرف طرق دون علم...</td>\n",
              "    </tr>\n",
              "    <tr>\n",
              "      <th>43630</th>\n",
              "      <td>0</td>\n",
              "      <td>خيب امل لا يتم نظف غرف الا بعد هلك قدم</td>\n",
              "    </tr>\n",
              "  </tbody>\n",
              "</table>\n",
              "<p>66555 rows × 2 columns</p>\n",
              "</div>\n",
              "      <button class=\"colab-df-convert\" onclick=\"convertToInteractive('df-d64137db-217e-46bb-99e0-5b02891806e9')\"\n",
              "              title=\"Convert this dataframe to an interactive table.\"\n",
              "              style=\"display:none;\">\n",
              "        \n",
              "  <svg xmlns=\"http://www.w3.org/2000/svg\" height=\"24px\"viewBox=\"0 0 24 24\"\n",
              "       width=\"24px\">\n",
              "    <path d=\"M0 0h24v24H0V0z\" fill=\"none\"/>\n",
              "    <path d=\"M18.56 5.44l.94 2.06.94-2.06 2.06-.94-2.06-.94-.94-2.06-.94 2.06-2.06.94zm-11 1L8.5 8.5l.94-2.06 2.06-.94-2.06-.94L8.5 2.5l-.94 2.06-2.06.94zm10 10l.94 2.06.94-2.06 2.06-.94-2.06-.94-.94-2.06-.94 2.06-2.06.94z\"/><path d=\"M17.41 7.96l-1.37-1.37c-.4-.4-.92-.59-1.43-.59-.52 0-1.04.2-1.43.59L10.3 9.45l-7.72 7.72c-.78.78-.78 2.05 0 2.83L4 21.41c.39.39.9.59 1.41.59.51 0 1.02-.2 1.41-.59l7.78-7.78 2.81-2.81c.8-.78.8-2.07 0-2.86zM5.41 20L4 18.59l7.72-7.72 1.47 1.35L5.41 20z\"/>\n",
              "  </svg>\n",
              "      </button>\n",
              "      \n",
              "  <style>\n",
              "    .colab-df-container {\n",
              "      display:flex;\n",
              "      flex-wrap:wrap;\n",
              "      gap: 12px;\n",
              "    }\n",
              "\n",
              "    .colab-df-convert {\n",
              "      background-color: #E8F0FE;\n",
              "      border: none;\n",
              "      border-radius: 50%;\n",
              "      cursor: pointer;\n",
              "      display: none;\n",
              "      fill: #1967D2;\n",
              "      height: 32px;\n",
              "      padding: 0 0 0 0;\n",
              "      width: 32px;\n",
              "    }\n",
              "\n",
              "    .colab-df-convert:hover {\n",
              "      background-color: #E2EBFA;\n",
              "      box-shadow: 0px 1px 2px rgba(60, 64, 67, 0.3), 0px 1px 3px 1px rgba(60, 64, 67, 0.15);\n",
              "      fill: #174EA6;\n",
              "    }\n",
              "\n",
              "    [theme=dark] .colab-df-convert {\n",
              "      background-color: #3B4455;\n",
              "      fill: #D2E3FC;\n",
              "    }\n",
              "\n",
              "    [theme=dark] .colab-df-convert:hover {\n",
              "      background-color: #434B5C;\n",
              "      box-shadow: 0px 1px 3px 1px rgba(0, 0, 0, 0.15);\n",
              "      filter: drop-shadow(0px 1px 2px rgba(0, 0, 0, 0.3));\n",
              "      fill: #FFFFFF;\n",
              "    }\n",
              "  </style>\n",
              "\n",
              "      <script>\n",
              "        const buttonEl =\n",
              "          document.querySelector('#df-d64137db-217e-46bb-99e0-5b02891806e9 button.colab-df-convert');\n",
              "        buttonEl.style.display =\n",
              "          google.colab.kernel.accessAllowed ? 'block' : 'none';\n",
              "\n",
              "        async function convertToInteractive(key) {\n",
              "          const element = document.querySelector('#df-d64137db-217e-46bb-99e0-5b02891806e9');\n",
              "          const dataTable =\n",
              "            await google.colab.kernel.invokeFunction('convertToInteractive',\n",
              "                                                     [key], {});\n",
              "          if (!dataTable) return;\n",
              "\n",
              "          const docLinkHtml = 'Like what you see? Visit the ' +\n",
              "            '<a target=\"_blank\" href=https://colab.research.google.com/notebooks/data_table.ipynb>data table notebook</a>'\n",
              "            + ' to learn more about interactive tables.';\n",
              "          element.innerHTML = '';\n",
              "          dataTable['output_type'] = 'display_data';\n",
              "          await google.colab.output.renderOutput(dataTable, element);\n",
              "          const docLink = document.createElement('div');\n",
              "          docLink.innerHTML = docLinkHtml;\n",
              "          element.appendChild(docLink);\n",
              "        }\n",
              "      </script>\n",
              "    </div>\n",
              "  </div>\n",
              "  "
            ]
          },
          "metadata": {},
          "execution_count": 35
        }
      ],
      "source": [
        "#shuffling\n",
        "from  sklearn.utils import shuffle\n",
        "df_shuffled=shuffle(df_copy,random_state=0)\n",
        "df_shuffled"
      ]
    },
    {
      "cell_type": "code",
      "execution_count": null,
      "metadata": {
        "colab": {
          "base_uri": "https://localhost:8080/"
        },
        "id": "vZSnWJx5oA9T",
        "outputId": "c468014b-76c8-475f-b84d-f418b18df706",
        "scrolled": true
      },
      "outputs": [
        {
          "output_type": "stream",
          "name": "stdout",
          "text": [
            "Train:  (59899,) (59899,) \n",
            "Validation: (6656,) (6656,)\n"
          ]
        }
      ],
      "source": [
        "\n",
        "\n",
        "#Splitting data\n",
        "x=df_shuffled['text']\n",
        "y=df_shuffled['label']\n",
        "X_train,X_test,Y_train, Y_test = train_test_split(x, y, test_size=0.1, random_state=1)\n",
        "# X_train, X_val, Y_train, Y_val = train_test_split(X_train,Y_train,test_size=0.25,random_state=1)\n",
        "\n",
        "print(\"Train: \" ,X_train.shape,Y_train.shape,\"\\nValidation:\",X_test.shape,Y_test.shape)"
      ]
    },
    {
      "cell_type": "code",
      "source": [
        "X_train.values.shape, Y_train.values.shape"
      ],
      "metadata": {
        "colab": {
          "base_uri": "https://localhost:8080/"
        },
        "id": "1-jU_5nc5KuN",
        "outputId": "de116140-c61f-4b9a-e4a1-2cf4f068f9d3"
      },
      "execution_count": null,
      "outputs": [
        {
          "output_type": "execute_result",
          "data": {
            "text/plain": [
              "((59899,), (59899,))"
            ]
          },
          "metadata": {},
          "execution_count": 37
        }
      ]
    },
    {
      "cell_type": "markdown",
      "metadata": {
        "id": "CDkzH5IroA9U"
      },
      "source": [
        "# Embedding"
      ]
    },
    {
      "cell_type": "code",
      "source": [
        "from numpy import array\n",
        "from keras.preprocessing.text import one_hot\n",
        "from keras.preprocessing.sequence import pad_sequences\n",
        "from keras.models import Sequential\n",
        "from keras.layers import Dense\n",
        "from keras.layers import Flatten\n",
        "from keras.layers.embeddings import Embedding\n",
        "from keras.callbacks import EarlyStopping\n",
        "from keras import metrics\n",
        "import keras\n",
        "# import os\n",
        "# os.environ['CUDA_VISIBLE_DEVICES'] = \"0\"\n"
      ],
      "metadata": {
        "id": "euTcpIiQ6-o1"
      },
      "execution_count": null,
      "outputs": []
    },
    {
      "cell_type": "code",
      "source": [
        "# Helper functions\n",
        "\n",
        "def get_num_of_unique_words():\n",
        "  vocab_size = 2363*5 #hard coded(should be the number of words in docs)\n",
        "  return vocab_size\n",
        "\n",
        "def get_max_sentence_length(docs):\n",
        "  max_length=len(max(docs,key=len).split())\n",
        "  return max_length\n",
        "\n",
        "# integer encode the documents\n",
        "def get_encoded_docs(docs,encoding_depth):\n",
        "  encoded_docs = [one_hot(d, encoding_depth) for d in docs]\n",
        "  # print(encoded_docs)\n",
        "  return encoded_docs\n",
        "\n",
        "# pad documents to a max length of `max_length` words\n",
        "def get_padded_docs(docs,max_padding_length):\n",
        "  padded_docs = pad_sequences(docs, maxlen=max_padding_length, padding='post')\n",
        "  # print(padded_docs)\n",
        "  return padded_docs\n",
        "\n",
        "def process_docs(docs, max_padding_length,encoding_depth):\n",
        "  encoded_docs=get_encoded_docs(docs,encoding_depth)\n",
        "  padded_docs=get_padded_docs(encoded_docs,max_padding_length)\n",
        "  return padded_docs\n",
        "def calculate_f1(recall,precision):\n",
        "  eps=1e-07\n",
        "  return (2*recall*precision)/(recall+precision+eps)\n",
        "  "
      ],
      "metadata": {
        "id": "ixnf6ehK6ob_"
      },
      "execution_count": null,
      "outputs": []
    },
    {
      "cell_type": "code",
      "source": [
        "all_docs=df_shuffled['text'].values\n",
        "\n",
        "max_sentence_length=get_max_sentence_length(all_docs)\n",
        "vocab_size=get_num_of_unique_words()\n",
        "\n",
        "docs_train=process_docs(X_train.values,max_sentence_length,vocab_size)\n",
        "labels_train=Y_train.values\n",
        "\n",
        "docs_test=process_docs(X_test.values,max_sentence_length,vocab_size)\n",
        "labels_test=Y_test.values"
      ],
      "metadata": {
        "id": "alLzabSL80I5"
      },
      "execution_count": null,
      "outputs": []
    },
    {
      "cell_type": "code",
      "source": [
        "print('trainig shapes: {}, {} \\ntesting shapes: {}, {}'.format(docs_train.shape,labels_train.shape,docs_test.shape,labels_test.shape))\n"
      ],
      "metadata": {
        "colab": {
          "base_uri": "https://localhost:8080/"
        },
        "id": "mTHvLH_GHrHo",
        "outputId": "1521b8ae-1f72-4184-d959-4bf940b6774d"
      },
      "execution_count": null,
      "outputs": [
        {
          "output_type": "stream",
          "name": "stdout",
          "text": [
            "trainig shapes: (59899, 591), (59899,) \n",
            "testing shapes: (6656, 591), (6656,)\n"
          ]
        }
      ]
    },
    {
      "cell_type": "code",
      "execution_count": null,
      "metadata": {
        "colab": {
          "base_uri": "https://localhost:8080/"
        },
        "id": "1rgcX0QYoA9U",
        "outputId": "6359a1b8-94f7-4f93-d4b3-1e1fe497bb68"
      },
      "outputs": [
        {
          "output_type": "stream",
          "name": "stdout",
          "text": [
            "Model: \"sequential_31\"\n",
            "_________________________________________________________________\n",
            " Layer (type)                Output Shape              Param #   \n",
            "=================================================================\n",
            " embedding_31 (Embedding)    (None, 591, 64)           756160    \n",
            "                                                                 \n",
            " flatten_31 (Flatten)        (None, 37824)             0         \n",
            "                                                                 \n",
            " dense_72 (Dense)            (None, 32)                1210400   \n",
            "                                                                 \n",
            " dense_73 (Dense)            (None, 8)                 264       \n",
            "                                                                 \n",
            " dense_74 (Dense)            (None, 1)                 9         \n",
            "                                                                 \n",
            "=================================================================\n",
            "Total params: 1,966,833\n",
            "Trainable params: 1,966,833\n",
            "Non-trainable params: 0\n",
            "_________________________________________________________________\n",
            "None\n",
            "Epoch 1/300\n",
            "88/88 [==============================] - 2s 17ms/step - loss: 0.6349 - acc: 0.6679 - recall_10: 0.4579 - precision_10: 0.7889 - val_loss: 0.4741 - val_acc: 0.8084 - val_recall_10: 0.7423 - val_precision_10: 0.8541\n",
            "Epoch 2/300\n",
            "88/88 [==============================] - 1s 12ms/step - loss: 0.3673 - acc: 0.8427 - recall_10: 0.8507 - precision_10: 0.8371 - val_loss: 0.3501 - val_acc: 0.8431 - val_recall_10: 0.8029 - val_precision_10: 0.8722\n",
            "Epoch 3/300\n",
            "88/88 [==============================] - 1s 13ms/step - loss: 0.3026 - acc: 0.8711 - recall_10: 0.8741 - precision_10: 0.8688 - val_loss: 0.3432 - val_acc: 0.8508 - val_recall_10: 0.8315 - val_precision_10: 0.8640\n",
            "Epoch 4/300\n",
            "88/88 [==============================] - 1s 13ms/step - loss: 0.2725 - acc: 0.8861 - recall_10: 0.8890 - precision_10: 0.8837 - val_loss: 0.3450 - val_acc: 0.8482 - val_recall_10: 0.8299 - val_precision_10: 0.8605\n",
            "Epoch 5/300\n",
            "88/88 [==============================] - 1s 13ms/step - loss: 0.2441 - acc: 0.9017 - recall_10: 0.9038 - precision_10: 0.8998 - val_loss: 0.3586 - val_acc: 0.8440 - val_recall_10: 0.8892 - val_precision_10: 0.8147\n",
            "Epoch 6/300\n",
            "88/88 [==============================] - 1s 13ms/step - loss: 0.2135 - acc: 0.9182 - recall_10: 0.9212 - precision_10: 0.9157 - val_loss: 0.3675 - val_acc: 0.8444 - val_recall_10: 0.8519 - val_precision_10: 0.8384\n"
          ]
        }
      ],
      "source": [
        "model = Sequential()\n",
        "model.add(Embedding(vocab_size, 64, input_length=max_sentence_length))\n",
        "model.add(Flatten())\n",
        "model.add(Dense(32,activation = \"relu\"))\n",
        "model.add(Dense(8,activation = \"relu\"))\n",
        "model.add(Dense(1, activation='sigmoid'))\n",
        "\n",
        "model.compile(optimizer='adam', loss='binary_crossentropy', metrics=['acc',keras.metrics.Recall(),keras.metrics.Precision()])\n",
        "early_stopping= EarlyStopping(monitor='val_loss',patience=3)\n",
        "\n",
        "print(model.summary())\n",
        "# fit the model\n",
        "hist=model.fit(docs_train, labels_train, epochs=300, verbose=1,\n",
        "          batch_size=512,use_multiprocessing=True,\n",
        "          workers=10000,validation_split=0.25,callbacks=[early_stopping])\n"
      ]
    },
    {
      "cell_type": "code",
      "source": [
        "# evaluate the model\n",
        "loss,accuracy, recall,precision = model.evaluate(docs_test, labels_test, verbose=1)\n",
        "print('accuracy: %f recall: %f, precision: %f, f1_score: %f' % ((accuracy*100),(recall*100),(precision*100),(calculate_f1(recall,precision)*100)))"
      ],
      "metadata": {
        "colab": {
          "base_uri": "https://localhost:8080/"
        },
        "id": "9FVdmWilItXQ",
        "outputId": "a85c18db-19d3-4602-9985-c37205ab3f92"
      },
      "execution_count": null,
      "outputs": [
        {
          "output_type": "stream",
          "name": "stdout",
          "text": [
            "208/208 [==============================] - 32s 3ms/step - loss: 0.3707 - acc: 0.8341 - recall_10: 0.8473 - precision_10: 0.8297\n",
            "accuracy: 83.413464 recall: 84.733731, precision: 82.966399, f1_score: 83.840747\n"
          ]
        }
      ]
    },
    {
      "cell_type": "code",
      "source": [
        "import matplotlib.pyplot as plt\n",
        "plt.style.use('ggplot')\n",
        "plt.plot(hist.history['loss'], label = 'loss')\n",
        "plt.plot(hist.history['val_loss'], label='val loss')\n",
        "plt.title(\"Loss vs Val_Loss\")\n",
        "plt.xlabel(\"Epochs\")\n",
        "plt.ylabel(\"Loss\")\n",
        "plt.legend()\n",
        "plt.show()\n"
      ],
      "metadata": {
        "colab": {
          "base_uri": "https://localhost:8080/",
          "height": 299
        },
        "id": "DG0eBZzqNLhx",
        "outputId": "092cb0df-002e-470a-f7eb-ce5970216489"
      },
      "execution_count": null,
      "outputs": [
        {
          "output_type": "display_data",
          "data": {
            "text/plain": [
              "<Figure size 432x288 with 1 Axes>"
            ],
            "image/png": "[encoded data removed]"
          },
          "metadata": {}
        }
      ]
    },
    {
      "cell_type": "markdown",
      "metadata": {
        "id": "e83AhCm2oA9V"
      },
      "source": [
        "# TF-IDF"
      ]
    },
    {
      "cell_type": "code",
      "execution_count": null,
      "metadata": {
        "id": "k7FILGN9oA9V"
      },
      "outputs": [],
      "source": [
        "from sklearn.feature_extraction.text import TfidfVectorizer\n",
        "vectorizer= TfidfVectorizer()\n",
        "tf_x_train = vectorizer.fit_transform(X_train)\n",
        "tf_x_test = vectorizer.transform(X_test)\n",
        "tf_x_val=vectorizer.transform(X_val)"
      ]
    },
    {
      "cell_type": "code",
      "execution_count": null,
      "metadata": {
        "id": "hbTi5rWHoA9V"
      },
      "outputs": [],
      "source": [
        "vectorizer_file_path=\"tfidfVectorizerDump.joblib\"\n",
        "with open(vectorizer_file_path,\"wb\") as f:\n",
        "        pickle.dump(vectorizer, f)"
      ]
    },
    {
      "cell_type": "code",
      "execution_count": null,
      "metadata": {
        "id": "IG1nZYG4oA9W",
        "scrolled": true
      },
      "outputs": [],
      "source": [
        "print(tf_x_train.shape,tf_x_val.shape,tf_x_test.shape)"
      ]
    },
    {
      "cell_type": "markdown",
      "metadata": {
        "id": "V8KBRyYxoA9W"
      },
      "source": [
        "## Nerual Networks"
      ]
    },
    {
      "cell_type": "code",
      "execution_count": null,
      "metadata": {
        "id": "41rUOyxpoA9W"
      },
      "outputs": [],
      "source": [
        "class AdamOptimizer:\n",
        "    def __init__(self,beta1,beta2,alpha,eps=10e-8):\n",
        "        self.beta1=beta1\n",
        "        self.beta2=beta2\n",
        "        self.alpha=alpha\n",
        "        self.eps=eps\n",
        "        self.ms=[]\n",
        "        self.vs=[]\n",
        "        \n",
        "    def reset_params(self,layers):\n",
        "        self.ms=[ \n",
        "                  [np.zeros_like(layer.W,dtype=np.float64), np.zeros_like(layer.b,dtype=np.float64)] \n",
        "                  for layer in layers      \n",
        "                 ]\n",
        "        self.vs=[ \n",
        "                  [np.zeros_like(layer.W,dtype=np.float64), np.zeros_like(layer.b,dtype=np.float64)] \n",
        "                  for layer in layers      \n",
        "                 ]\n",
        "        \n",
        "    def update(self,layers,N):\n",
        "        for i in range(len(layers)):\n",
        "            self.ms[i][0]= self.beta1*self.ms[i][0]+(1.0-self.beta1)*layers[i].dW\n",
        "            self.ms[i][1]= self.beta1*self.ms[i][1]+(1.0-self.beta1)*layers[i].db\n",
        "            \n",
        "            self.vs[i][0]= self.beta2*self.vs[i][0]+(1.0-self.beta2)*np.square(layers[i].dW)\n",
        "            self.vs[i][1]= self.beta2*self.vs[i][1]+(1.0-self.beta2)*np.square(layers[i].db)\n",
        "\n",
        "            denDW= np.sqrt((self.vs[i][0] + self.eps))\n",
        "            denB=(np.sqrt((self.vs[i][1] + self.eps)))\n",
        "            \n",
        "            numDW=(-1 * self.alpha * self.ms[i][0])\n",
        "            numB=(-1 * self.alpha * self.ms[i][1])\n",
        "                    \n",
        "            deltaW = np.array(numDW /denDW ,dtype=np.float64)\n",
        "            deltab = np.array( numB/ denB  ,dtype=np.float64)\n",
        "        \n",
        "            layers[i].W +=  deltaW/N\n",
        "            layers[i].b +=  deltab/N\n",
        "        \n",
        "class GradientDescent:\n",
        "    def __init__(self,alpha):\n",
        "        self.alpha=alpha\n",
        "    def reset_params(self,layers):\n",
        "        pass\n",
        "    def update(self,layers,N):\n",
        "        for i in range(len(layers)):\n",
        "            # layers[i].dW=layers[i].dW/N\n",
        "            # layers[i].db=layers[i].db/N\n",
        "            layers[i].W = layers[i].W - self.alpha * (layers[i].dW/N)\n",
        "            layers[i].b = layers[i].b - self.alpha * (layers[i].db/N)"
      ]
    },
    {
      "cell_type": "code",
      "execution_count": null,
      "metadata": {
        "id": "suVNvA2moA9X"
      },
      "outputs": [],
      "source": [
        "import numpy as np\n",
        "import pickle\n",
        "\n",
        "\n",
        "class Layer:\n",
        "    \n",
        "    ### activations\n",
        "    def _relu(self,z):\n",
        "        return np.maximum(0,z)\n",
        "    def _diff_relu(self,z):\n",
        "        dZ=np.array(z,copy=True)\n",
        "        dZ[dZ<=0]=0\n",
        "        dZ[dZ>0]=1\n",
        "        return dZ\n",
        "    \n",
        "    def _identity(self,z):\n",
        "        return z\n",
        "    \n",
        "    def _identity_diff(self,z):\n",
        "        return np.ones_like(z)\n",
        "    \n",
        "    def _sigmoid(self,z):\n",
        "        return (1/(1+np.exp(-1*z)))\n",
        "\n",
        "    def _diff_sigmoid(self,z):\n",
        "        return self._sigmoid(z)*(1-self._sigmoid(z))\n",
        "    \n",
        "    def _softmax(self,z):\n",
        "        expZ= np.exp(z-np.max(z))\n",
        "        return expZ/expZ.sum(axis=0, keepdims=True)\n",
        "    def _diff_softmax(self,z):\n",
        "        pass\n",
        "\n",
        "    \n",
        "    ###########\n",
        "\n",
        "    def __init__(self,n_input,n_output, activation=\"identity\",name=None):\n",
        "        self.n_output= n_output\n",
        "        self.n_input= n_input\n",
        "        self.name= name\n",
        "        \n",
        "        if activation == \"identity\":\n",
        "            self.activation = self._identity\n",
        "            self.diff_act= self._identity_diff\n",
        "        \n",
        "        elif activation == \"sigmoid\":\n",
        "            self.activation = self._sigmoid\n",
        "            self.diff_act= self._diff_sigmoid\n",
        "            \n",
        "        elif activation == \"softmax\":\n",
        "            self.activation=self._softmax\n",
        "            self.diff_act=self._diff_softmax\n",
        "        elif activation ==\"relu\":\n",
        "            self.activation=self._relu\n",
        "            self.diff_act=self._diff_relu\n",
        "            \n",
        "        self.reset_params()\n",
        "            \n",
        "        \n",
        "    def reset_params(self): \n",
        "        self.W= np.random.randn(self.n_output,self.n_input)*np.sqrt(2/self.n_input)\n",
        "        self.b= np.random.randn(self.n_output,1)*np.sqrt(2/self.n_input)\n",
        "\n",
        "        self.dW= np.zeros_like(self.W)\n",
        "        self.db= np.zeros_like(self.b)\n",
        "        \n",
        "        self.Z= None\n",
        "        self.Ai = None\n",
        "    def print_shapes(self):\n",
        "        print(\"W: \",self.W.shape)\n",
        "        print(\"b: \",self.b.shape)\n",
        "    \n",
        "    def forward(self,Ai): #data dim \n",
        "\n",
        "        z =  np.add((self.W @ Ai),self.b)\n",
        "        A = self.activation(z)\n",
        "\n",
        "        \n",
        "        self.Z = z\n",
        "        self.Ai = Ai\n",
        "        return A\n",
        "    \n",
        "    \n",
        "    def backward(self,inp):\n",
        "        \n",
        "       \n",
        "        act_diff = self.diff_act(self.Z)\n",
        "        \n",
        "        tmp = inp * act_diff\n",
        "        \n",
        "        bet = tmp @ self.Ai.T # vector of 1s\n",
        "        \n",
        "        \n",
        "        e = np.ones((self.Ai.shape[1],1))\n",
        "        db = tmp @ e\n",
        "\n",
        "        self.dW = (self.dW + bet)\n",
        "        self.db = self.db + db\n",
        "        \n",
        "        \n",
        "        return self.W.T @ tmp\n",
        "    \n",
        "    def print_weights(self):\n",
        "        print(\"\\n###################\")\n",
        "        if(self.name):\n",
        "            print(\"name: \",self.name)\n",
        "        print(\"dW: \",self.dW, \"W: \",self.W)\n",
        "    \n",
        "    def zeroing_delta(self):\n",
        "        self.dW= np.zeros_like(self.W)\n",
        "        self.db= np.zeros_like(self.b)\n",
        "\n",
        "\n",
        "class NN:\n",
        "    \n",
        "    ########\n",
        "    ## losses\n",
        "    def _MSE(self,y,yhat):\n",
        "        a=np.square(yhat-y)\n",
        "        a=np.sum(a)\n",
        "        b= 1/(2*y.shape[1])\n",
        "        return a*b\n",
        "\n",
        "    ## diff losses\n",
        "    def _diff_MSE(self,y,yhat,X):\n",
        "        return (yhat-y)\n",
        "    \n",
        "    def _binary_cross_entropy(self,y,yhat):\n",
        "        arr= -(y*np.log(yhat)+(1-y)*np.log(1-yhat))\n",
        "        return arr.mean()\n",
        "        \n",
        "    def _diff_binary_cross_entropy(self,y,yhat,X):\n",
        "        dl_dyhat= -(y/(yhat) - (1-y)/(1-yhat))\n",
        "        return dl_dyhat\n",
        " \n",
        "    \n",
        "    #########\n",
        "    \n",
        "    def __init__(self,optimizer=None,loss=\"binary_cross\"):\n",
        "        self.layers = []\n",
        "        self.optimizer=optimizer\n",
        "        self.loss_name=loss\n",
        "        self.initialize_loss()\n",
        "    \n",
        "   \n",
        "    def initialize_loss(self): \n",
        "        if(self.loss_name==\"binary_cross\"):\n",
        "            self.loss=self._binary_cross_entropy\n",
        "            self.loss_diff=self._diff_binary_cross_entropy\n",
        "        elif self.loss_name==\"MSE\":\n",
        "            self.loss=self._MSE\n",
        "            self.loss_diff=self._diff_MSE\n",
        "        \n",
        "    \n",
        "    def reset_layers(self):\n",
        "            for layer in self.layers:\n",
        "                layer.reset_params()\n",
        "    \n",
        "    def forward(self,x_train):\n",
        "        a=x_train\n",
        "        for layer in self.layers:\n",
        "            a = layer.forward(a)\n",
        "        return a\n",
        "    \n",
        "    def backward(self,input):\n",
        "        gd = input\n",
        "        for layer in self.layers[::-1]:\n",
        "            gd = layer.backward(gd)\n",
        "            \n",
        "    def add_layer(self,n_input,n_output, activation=\"identity\",name=None):\n",
        "        self.layers.append(Layer(n_input,n_output, activation=activation,name=name))\n",
        "    \n",
        "    def batch(self,x,y,batch_size):\n",
        "        x= x.copy()\n",
        "        y=y.copy()\n",
        "        reminder= x.shape[0] % batch_size\n",
        "\n",
        "\n",
        "        for i in range(0,x.shape[0],batch_size):\n",
        "            yield (x[i:i+batch_size],y[i:i+batch_size])\n",
        "        \n",
        "        if reminder !=0:\n",
        "            yield (x[x.shape[0]-reminder:],y[x.shape[0]-reminder:] )\n",
        "    \n",
        "    def fit(self, x_train,y_train,validation_data=None,batch_size=32, epochs=5): #data dim is MxN .. M no of examples.. N no of dimension\n",
        "        \n",
        "        M = x_train.shape[0]\n",
        "\n",
        "        no_of_batches= np.ceil(M/batch_size)\n",
        "        if(validation_data):\n",
        "            x_valid=validation_data[0]\n",
        "            y_valid=validation_data[1]\n",
        "        \n",
        "        \n",
        "        for i in range(epochs):\n",
        "            \n",
        "            print(\"Epoche {}/{}\".format(i+1,epochs))\n",
        "            self.optimizer.reset_params(self.layers)\n",
        "            batches=self.batch(x_train,y_train,batch_size)\n",
        "            losses=[]\n",
        "            j=0\n",
        "            for cur_x,cur_y in batches:\n",
        "                \n",
        "                cur_x=cur_x.T\n",
        "                cur_y=cur_y.T\n",
        "                \n",
        "                y_hat= self.forward(cur_x)\n",
        "\n",
        "                dl_dyhat = self.loss_diff(cur_y,y_hat,self.layers[-1].Ai)\n",
        "                loss=self.loss(cur_y,y_hat)\n",
        "                \n",
        "                losses.append(loss)\n",
        "\n",
        "                self.backward(dl_dyhat)\n",
        "                \n",
        "                if batch_size==1:\n",
        "                    N= M\n",
        "                else:\n",
        "                    N=cur_x.shape[-1]\n",
        "                \n",
        "                self.optimizer.update(self.layers,N)\n",
        "\n",
        "                # zeroing deltas\n",
        "                for layer in self.layers:\n",
        "                    layer.zeroing_delta()\n",
        "                j+=1\n",
        "                \n",
        "            if validation_data:\n",
        "                y_hat_val = self.forward(x_valid.T)\n",
        "                loss_val= self.loss(y_valid.T,y_hat_val)\n",
        "                print(\"val_loss: {}....\".format(loss_val),end=\" \")\n",
        "                ######\n",
        "                #calc metrics\n",
        "            avg_loss= np.array(losses).mean()\n",
        "            if(avg_loss<0.05):\n",
        "                print(\"Stopping early because loss converged to a small number\")\n",
        "                print(\"losses avg=\",avg_loss)\n",
        "                break\n",
        "            else: print(\"losses avg=\",avg_loss)\n",
        "\n",
        "                \n",
        "\n",
        "        print(\"Finished....\") \n",
        "            \n",
        "            \n",
        "        \n",
        "\n",
        "    \n",
        "    def predict(self,x_test): #data dim is NxD .. N no of examples.. D no of dimension\n",
        "        y_hat= self.forward(x_test.T).T\n",
        "\n",
        "        y_hat[y_hat>0.5]=1\n",
        "        y_hat[y_hat<=0.5]=0\n",
        "        return y_hat\n",
        "                    \n",
        "    def print_weights(self):\n",
        "        for i in range(len(self.layers)):\n",
        "            print(\"layer i= \",i,end=\" \")\n",
        "            self.layers[i].print_weights()\n",
        "    def print_shapes(self):\n",
        "        for layer in self.layers:\n",
        "            layer.print_shapes()\n",
        "    \n",
        "    def save_model(self,path):\n",
        "        model=[self.layers,self.optimizer,self.loss]\n",
        "\n",
        "        file=open(path,\"wb\")\n",
        "        print(\"dumped model: \",model)\n",
        "\n",
        "        pickle.dump(model,file)\n",
        "\n",
        "        file.close()\n",
        "\n",
        "    def load_model(self,path):\n",
        "        file=open(path,\"rb\")\n",
        "\n",
        "        model=pickle.load(file)\n",
        "\n",
        "        file.close()\n",
        "        print(\"loaded model: \",model)\n",
        "        \n",
        "        self.layers,self.optimizer,self.loss=model\n",
        "        self.initialize_loss()\n",
        "\n",
        "    "
      ]
    },
    {
      "cell_type": "code",
      "execution_count": null,
      "metadata": {
        "id": "06OLYvjvoA9Y",
        "scrolled": true
      },
      "outputs": [],
      "source": [
        "print(tf_x_train.shape)\n",
        "print(tf_x_test.shape)\n",
        "print(tf_x_val.shape)\n",
        "print(Y_train.shape)\n",
        "print(Y_test.shape)"
      ]
    },
    {
      "cell_type": "code",
      "execution_count": null,
      "metadata": {
        "id": "28n-DHlPoA9Y"
      },
      "outputs": [],
      "source": [
        "\n",
        "adam= AdamOptimizer(beta1 = 0.9,beta2 = 0.99,alpha=0.1,eps=0.001)\n",
        "nn = NN(optimizer=adam)\n",
        "\n",
        "nn.add_layer(tf_x_train.shape[1],64,activation=\"relu\",name=\"l1\")\n",
        "nn.add_layer(64,32,activation = \"relu\",name=\"l2\")\n",
        "nn.add_layer(32,8,activation = \"relu\",name=\"l4\")\n",
        "nn.add_layer(8,1,activation = \"sigmoid\",name=\"l5\")\n",
        "\n"
      ]
    },
    {
      "cell_type": "code",
      "execution_count": null,
      "metadata": {
        "id": "4H3GqXqloA9Y",
        "scrolled": true
      },
      "outputs": [],
      "source": [
        "nn.fit(tf_x_train,Y_train,validation_data=[tf_x_val,Y_val],batch_size=32,epochs=1)\n",
        "# nn.load_model(\"modelDump.joblib\")\n"
      ]
    },
    {
      "cell_type": "code",
      "execution_count": null,
      "metadata": {
        "id": "HzI8HkRkoA9Z"
      },
      "outputs": [],
      "source": [
        "y_pred=nn.predict(tf_x_test)"
      ]
    },
    {
      "cell_type": "code",
      "execution_count": null,
      "metadata": {
        "id": "CK6xUfowoA9Z"
      },
      "outputs": [],
      "source": [
        "print(len(y_pred))\n",
        "np.unique(y_pred,return_counts=True)"
      ]
    },
    {
      "cell_type": "code",
      "execution_count": null,
      "metadata": {
        "id": "IJwmeXhsoA9Z"
      },
      "outputs": [],
      "source": [
        "# Y_test\n",
        "print(classification_report(y_pred,Y_test))\n"
      ]
    },
    {
      "cell_type": "code",
      "execution_count": null,
      "metadata": {
        "id": "pOzn67mOoA9Z",
        "scrolled": false
      },
      "outputs": [],
      "source": [
        "#dump model\n",
        "nn.save_model(\"modelDump.joblib\")"
      ]
    },
    {
      "cell_type": "code",
      "execution_count": null,
      "metadata": {
        "id": "kPUwfAMJoA9Z"
      },
      "outputs": [],
      "source": [
        "file=open(\"tfidfVectorizerDump.joblib\",\"wb\")\n",
        "pickle.dump(file,vectorizer)"
      ]
    }
  ],
  "metadata": {
    "accelerator": "GPU",
    "colab": {
      "collapsed_sections": [],
      "name": "phase 6 - Tensorflow Embedding.ipynb",
      "provenance": []
    },
    "gpuClass": "standard",
    "kernelspec": {
      "display_name": "Python 3 (ipykernel)",
      "language": "python",
      "name": "python3"
    },
    "language_info": {
      "codemirror_mode": {
        "name": "ipython",
        "version": 3
      },
      "file_extension": ".py",
      "mimetype": "text/x-python",
      "name": "python",
      "nbconvert_exporter": "python",
      "pygments_lexer": "ipython3",
      "version": "3.8.10"
    }
  },
  "nbformat": 4,
  "nbformat_minor": 0
}